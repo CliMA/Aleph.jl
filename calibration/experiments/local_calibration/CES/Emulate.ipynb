{
 "cells": [
  {
   "cell_type": "code",
   "execution_count": 10,
   "metadata": {},
   "outputs": [
    {
     "name": "stderr",
     "output_type": "stream",
     "text": [
      "\u001b[32m\u001b[1m  Activating\u001b[22m\u001b[39m project at `/central/home/jschmitt/ClimaAtmos.jl/calibration/experiments/local_calibration/CES`\n"
     ]
    }
   ],
   "source": [
    "using Pkg; Pkg.activate(\".\")\n",
    "using CalibrateEmulateSample.Utilities\n",
    "using CalibrateEmulateSample.Emulators\n",
    "import EnsembleKalmanProcesses as EKP\n",
    "import ClimaCalibrate as CAL\n",
    "import JLD2\n",
    "import YAML"
   ]
  },
  {
   "cell_type": "code",
   "execution_count": 27,
   "metadata": {},
   "outputs": [
    {
     "data": {
      "text/plain": [
       "EnsembleKalmanProcesses.DataContainers.PairedDataContainer{Float64}(EnsembleKalmanProcesses.DataContainers.DataContainer{Float64}([-1.556040664338548 -2.053457352301882 … -2.028468589899718 -2.3017550973692456; 0.17708017774064289 0.14128754922443715 … 0.08172468753780245 0.11438165406231426; … ; -6.8029787057653195 -7.2139937730169645 … -7.217232974615285 -6.904965843070573; -1.5088665423578147 -1.726934462691475 … -1.4243889641107712 -1.2662776884890246]), EnsembleKalmanProcesses.DataContainers.DataContainer{Float64}([405.7225646972656 405.72564697265625 … 405.7229309082031 405.7237548828125; 0.3606768250465393 0.3608790636062622 … 0.3605056703090668 0.36057189106941223; … ; 274.0641174316406 275.0635681152344 … 274.0350646972656 274.0800476074219; 123.0937728881836 123.09915161132812 … 123.09416198730469 123.09424591064453]))"
      ]
     },
     "metadata": {},
     "output_type": "display_data"
    }
   ],
   "source": [
    "tot_iter = 3\n",
    "output_dir = joinpath(\"../output\", \"local_calibration\")\n",
    "eki_filepath = joinpath(CAL.path_to_iteration(output_dir, tot_iter), \"eki_file.jld2\")\n",
    "ekiobj = JLD2.load_object(eki_filepath)\n",
    "\n",
    "# load eki object into CES input output pairs\n",
    "input_output_pairs = Utilities.get_training_points(ekiobj, 2)\n",
    "input_output_pairs"
   ]
  },
  {
   "cell_type": "code",
   "execution_count": 21,
   "metadata": {},
   "outputs": [
    {
     "data": {
      "text/plain": [
       "9×9 LinearAlgebra.Diagonal{Float64, Vector{Float64}}:\n",
       " 0.3   ⋅      ⋅        ⋅    ⋅       ⋅    ⋅    ⋅    ⋅ \n",
       "  ⋅   0.036   ⋅        ⋅    ⋅       ⋅    ⋅    ⋅    ⋅ \n",
       "  ⋅    ⋅     0.00042   ⋅    ⋅       ⋅    ⋅    ⋅    ⋅ \n",
       "  ⋅    ⋅      ⋅       5.0   ⋅       ⋅    ⋅    ⋅    ⋅ \n",
       "  ⋅    ⋅      ⋅        ⋅   5.0e-5   ⋅    ⋅    ⋅    ⋅ \n",
       "  ⋅    ⋅      ⋅        ⋅    ⋅      1.0   ⋅    ⋅    ⋅ \n",
       "  ⋅    ⋅      ⋅        ⋅    ⋅       ⋅   1.0   ⋅    ⋅ \n",
       "  ⋅    ⋅      ⋅        ⋅    ⋅       ⋅    ⋅   1.0   ⋅ \n",
       "  ⋅    ⋅      ⋅        ⋅    ⋅       ⋅    ⋅    ⋅   1.0"
      ]
     },
     "metadata": {},
     "output_type": "display_data"
    }
   ],
   "source": [
    "# get obs_noise_cov \n",
    "obs_noise_cov = JLD2.load_object(\"../obs_noise_cov.jld2\")"
   ]
  },
  {
   "cell_type": "code",
   "execution_count": 28,
   "metadata": {},
   "outputs": [
    {
     "name": "stdout",
     "output_type": "stream",
     "text": [
      "SVD truncated at k: 5/9\n",
      "Using default squared exponential kernel, learning length scale and variance parameters\n",
      "Using default squared exponential kernel:PyObject 1**2 * RBF(length_scale=[1, 1, 1, 1, 1])\n",
      "Learning additive white noise\n",
      "Tuple{String, String, Matrix{Float64}, Int64, Bool}[(\"k1__k1__constant_value\", \"numeric\", [1.0e-5 10000.0], 1, 0), (\"k1__k2__length_scale\", \"numeric\", [1.0e-5 10000.0; 1.0e-5 10000.0; 1.0e-5 10000.0; 1.0e-5 10000.0; 1.0e-5 10000.0], 5, 0), (\"k2__noise_level\", \"numeric\", [1.0e-5 10.0], 1, 0)]\n",
      "Completed training of: 1, \n",
      "PyObject 1**2 * RBF(length_scale=[1, 1, 1, 1, 1]) + WhiteKernel(noise_level=1)\n"
     ]
    },
    {
     "name": "stderr",
     "output_type": "stream",
     "text": [
      "/home/jschmitt/.julia/conda/3/x86_64/lib/python3.10/site-packages/sklearn/gaussian_process/kernels.py:430: ConvergenceWarning: The optimal value found for dimension 0 of parameter k1__k2__length_scale is close to the specified upper bound 10000.0. Increasing the bound and calling fit again may find a better value.\n",
      "  warnings.warn(\n",
      "/home/jschmitt/.julia/conda/3/x86_64/lib/python3.10/site-packages/sklearn/gaussian_process/kernels.py:430: ConvergenceWarning: The optimal value found for dimension 1 of parameter k1__k2__length_scale is close to the specified upper bound 10000.0. Increasing the bound and calling fit again may find a better value.\n",
      "  warnings.warn(\n",
      "/home/jschmitt/.julia/conda/3/x86_64/lib/python3.10/site-packages/sklearn/gaussian_process/kernels.py:430: ConvergenceWarning: The optimal value found for dimension 2 of parameter k1__k2__length_scale is close to the specified upper bound 10000.0. Increasing the bound and calling fit again may find a better value.\n",
      "  warnings.warn(\n",
      "/home/jschmitt/.julia/conda/3/x86_64/lib/python3.10/site-packages/sklearn/gaussian_process/kernels.py:430: ConvergenceWarning: The optimal value found for dimension 4 of parameter k1__k2__length_scale is close to the specified upper bound 10000.0. Increasing the bound and calling fit again may find a better value.\n",
      "  warnings.warn(\n"
     ]
    },
    {
     "name": "stdout",
     "output_type": "stream",
     "text": [
      "2, \n",
      "PyObject 1**2 * RBF(length_scale=[1, 1, 1, 1, 1]) + WhiteKernel(noise_level=1)\n",
      "3"
     ]
    },
    {
     "name": "stderr",
     "output_type": "stream",
     "text": [
      "/home/jschmitt/.julia/conda/3/x86_64/lib/python3.10/site-packages/sklearn/gaussian_process/kernels.py:430: ConvergenceWarning: The optimal value found for dimension 0 of parameter k1__k1__constant_value is close to the specified upper bound 10000.0. Increasing the bound and calling fit again may find a better value.\n",
      "  warnings.warn(\n",
      "/home/jschmitt/.julia/conda/3/x86_64/lib/python3.10/site-packages/sklearn/gaussian_process/kernels.py:430: ConvergenceWarning: The optimal value found for dimension 0 of parameter k1__k2__length_scale is close to the specified upper bound 10000.0. Increasing the bound and calling fit again may find a better value.\n",
      "  warnings.warn(\n",
      "/home/jschmitt/.julia/conda/3/x86_64/lib/python3.10/site-packages/sklearn/gaussian_process/kernels.py:430: ConvergenceWarning: The optimal value found for dimension 1 of parameter k1__k2__length_scale is close to the specified upper bound 10000.0. Increasing the bound and calling fit again may find a better value.\n",
      "  warnings.warn(\n",
      "/home/jschmitt/.julia/conda/3/x86_64/lib/python3.10/site-packages/sklearn/gaussian_process/kernels.py:430: ConvergenceWarning: The optimal value found for dimension 2 of parameter k1__k2__length_scale is close to the specified upper bound 10000.0. Increasing the bound and calling fit again may find a better value.\n",
      "  warnings.warn(\n",
      "/home/jschmitt/.julia/conda/3/x86_64/lib/python3.10/site-packages/sklearn/gaussian_process/kernels.py:430: ConvergenceWarning: The optimal value found for dimension 4 of parameter k1__k2__length_scale is close to the specified upper bound 10000.0. Increasing the bound and calling fit again may find a better value.\n",
      "  warnings.warn(\n"
     ]
    },
    {
     "name": "stdout",
     "output_type": "stream",
     "text": [
      ", \n",
      "PyObject 1**2 * RBF(length_scale=[1, 1, 1, 1, 1]) + WhiteKernel(noise_level=1)\n"
     ]
    },
    {
     "name": "stderr",
     "output_type": "stream",
     "text": [
      "/home/jschmitt/.julia/conda/3/x86_64/lib/python3.10/site-packages/sklearn/gaussian_process/_gpr.py:616: ConvergenceWarning: lbfgs failed to converge (status=2):\n",
      "ABNORMAL_TERMINATION_IN_LNSRCH.\n",
      "\n",
      "Increase the number of iterations (max_iter) or scale the data as shown in:\n",
      "    https://scikit-learn.org/stable/modules/preprocessing.html\n",
      "  _check_optimize_result(\"lbfgs\", opt_res)\n",
      "/home/jschmitt/.julia/conda/3/x86_64/lib/python3.10/site-packages/sklearn/gaussian_process/kernels.py:430: ConvergenceWarning: The optimal value found for dimension 0 of parameter k1__k1__constant_value is close to the specified upper bound 10000.0. Increasing the bound and calling fit again may find a better value.\n",
      "  warnings.warn(\n",
      "/home/jschmitt/.julia/conda/3/x86_64/lib/python3.10/site-packages/sklearn/gaussian_process/kernels.py:430: ConvergenceWarning: The optimal value found for dimension 0 of parameter k1__k2__length_scale is close to the specified upper bound 10000.0. Increasing the bound and calling fit again may find a better value.\n",
      "  warnings.warn(\n",
      "/home/jschmitt/.julia/conda/3/x86_64/lib/python3.10/site-packages/sklearn/gaussian_process/kernels.py:430: ConvergenceWarning: The optimal value found for dimension 1 of parameter k1__k2__length_scale is close to the specified upper bound 10000.0. Increasing the bound and calling fit again may find a better value.\n",
      "  warnings.warn(\n",
      "/home/jschmitt/.julia/conda/3/x86_64/lib/python3.10/site-packages/sklearn/gaussian_process/kernels.py:430: ConvergenceWarning: The optimal value found for dimension 4 of parameter k1__k2__length_scale is close to the specified upper bound 10000.0. Increasing the bound and calling fit again may find a better value.\n",
      "  warnings.warn(\n"
     ]
    },
    {
     "name": "stdout",
     "output_type": "stream",
     "text": [
      "4, \n",
      "PyObject 1**2 * RBF(length_scale=[1, 1, 1, 1, 1]) + WhiteKernel(noise_level=1)\n",
      "5"
     ]
    },
    {
     "name": "stderr",
     "output_type": "stream",
     "text": [
      "/home/jschmitt/.julia/conda/3/x86_64/lib/python3.10/site-packages/sklearn/gaussian_process/kernels.py:430: ConvergenceWarning: The optimal value found for dimension 0 of parameter k1__k1__constant_value is close to the specified upper bound 10000.0. Increasing the bound and calling fit again may find a better value.\n",
      "  warnings.warn(\n",
      "/home/jschmitt/.julia/conda/3/x86_64/lib/python3.10/site-packages/sklearn/gaussian_process/kernels.py:430: ConvergenceWarning: The optimal value found for dimension 0 of parameter k1__k2__length_scale is close to the specified upper bound 10000.0. Increasing the bound and calling fit again may find a better value.\n",
      "  warnings.warn(\n",
      "/home/jschmitt/.julia/conda/3/x86_64/lib/python3.10/site-packages/sklearn/gaussian_process/kernels.py:430: ConvergenceWarning: The optimal value found for dimension 2 of parameter k1__k2__length_scale is close to the specified upper bound 10000.0. Increasing the bound and calling fit again may find a better value.\n",
      "  warnings.warn(\n",
      "/home/jschmitt/.julia/conda/3/x86_64/lib/python3.10/site-packages/sklearn/gaussian_process/kernels.py:430: ConvergenceWarning: The optimal value found for dimension 4 of parameter k1__k2__length_scale is close to the specified upper bound 10000.0. Increasing the bound and calling fit again may find a better value.\n",
      "  warnings.warn(\n"
     ]
    },
    {
     "name": "stdout",
     "output_type": "stream",
     "text": [
      ", \n",
      "PyObject 1**2 * RBF(length_scale=[1, 1, 1, 1, 1]) + WhiteKernel(noise_level=1)\n",
      "SKlearn, already trained. continuing...\n"
     ]
    },
    {
     "name": "stderr",
     "output_type": "stream",
     "text": [
      "/home/jschmitt/.julia/conda/3/x86_64/lib/python3.10/site-packages/sklearn/gaussian_process/kernels.py:430: ConvergenceWarning: The optimal value found for dimension 0 of parameter k1__k2__length_scale is close to the specified upper bound 10000.0. Increasing the bound and calling fit again may find a better value.\n",
      "  warnings.warn(\n",
      "/home/jschmitt/.julia/conda/3/x86_64/lib/python3.10/site-packages/sklearn/gaussian_process/kernels.py:430: ConvergenceWarning: The optimal value found for dimension 1 of parameter k1__k2__length_scale is close to the specified upper bound 10000.0. Increasing the bound and calling fit again may find a better value.\n",
      "  warnings.warn(\n",
      "/home/jschmitt/.julia/conda/3/x86_64/lib/python3.10/site-packages/sklearn/gaussian_process/kernels.py:430: ConvergenceWarning: The optimal value found for dimension 2 of parameter k1__k2__length_scale is close to the specified upper bound 10000.0. Increasing the bound and calling fit again may find a better value.\n",
      "  warnings.warn(\n",
      "/home/jschmitt/.julia/conda/3/x86_64/lib/python3.10/site-packages/sklearn/gaussian_process/kernels.py:430: ConvergenceWarning: The optimal value found for dimension 4 of parameter k1__k2__length_scale is close to the specified upper bound 10000.0. Increasing the bound and calling fit again may find a better value.\n",
      "  warnings.warn(\n",
      "/home/jschmitt/.julia/conda/3/x86_64/lib/python3.10/site-packages/sklearn/gaussian_process/kernels.py:420: ConvergenceWarning: The optimal value found for dimension 0 of parameter k2__noise_level is close to the specified lower bound 1e-05. Decreasing the bound and calling fit again may find a better value.\n",
      "  warnings.warn(\n"
     ]
    }
   ],
   "source": [
    "# build and train emulator \n",
    "gppackage = Emulators.SKLJL()\n",
    "gauss_proc = GaussianProcess(gppackage)\n",
    "\n",
    "emulator = Emulator(gauss_proc, input_output_pairs,\n",
    "                    obs_noise_cov = obs_noise_cov,\n",
    "                    retained_svd_frac = .95,\n",
    ")\n",
    "optimize_hyperparameters!(emulator)"
   ]
  },
  {
   "cell_type": "code",
   "execution_count": 24,
   "metadata": {},
   "outputs": [
    {
     "name": "stdout",
     "output_type": "stream",
     "text": [
      "SKlearn, already trained. continuing...\n"
     ]
    }
   ],
   "source": [
    "# train emulator\n",
    "optimize_hyperparameters!(emulator)\n"
   ]
  },
  {
   "cell_type": "code",
   "execution_count": null,
   "metadata": {},
   "outputs": [],
   "source": []
  }
 ],
 "metadata": {
  "kernelspec": {
   "display_name": "Julia 1.10.3",
   "language": "julia",
   "name": "julia-1.10"
  },
  "language_info": {
   "file_extension": ".jl",
   "mimetype": "application/julia",
   "name": "julia",
   "version": "1.10.3"
  }
 },
 "nbformat": 4,
 "nbformat_minor": 2
}
