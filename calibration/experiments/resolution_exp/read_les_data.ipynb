{
 "cells": [
  {
   "cell_type": "markdown",
   "metadata": {},
   "source": [
    "# Read in LES Data and Experiment with comparing to Model output"
   ]
  },
  {
   "cell_type": "code",
   "execution_count": 2,
   "metadata": {},
   "outputs": [
    {
     "name": "stderr",
     "output_type": "stream",
     "text": [
      "\u001b[32m\u001b[1m  Activating\u001b[22m\u001b[39m project at `/central/groups/esm/jschmitt/ClimaAtmos.jl/calibration/experiments/resolution_exp`\n"
     ]
    }
   ],
   "source": [
    "# activate \n",
    "using Pkg\n",
    "Pkg.activate(\".\")\n",
    "using YAML \n",
    "import ClimaAtmos as CA\n",
    "using Revise"
   ]
  },
  {
   "cell_type": "code",
   "execution_count": 10,
   "metadata": {},
   "outputs": [],
   "source": [
    "includet(\"get_les_metadata.jl\")\n",
    "includet(\"helper_funcs.jl\")\n",
    "includet(\"observation_map.jl\")"
   ]
  },
  {
   "cell_type": "code",
   "execution_count": 4,
   "metadata": {},
   "outputs": [
    {
     "data": {
      "text/plain": [
       "\"../../../../../zhaoyi/GCMForcedLES/cfsite/07/HadGEM2-A/amip/Output.cfsite30_HadGEM2-A_amip_2004-2008.07.4x/stats/Stats.cfsite30_HadGEM2-A_amip_2004-2008.07.nc\""
      ]
     },
     "metadata": {},
     "output_type": "display_data"
    }
   ],
   "source": [
    "# load in the 3 test sites\n",
    "les_17 = get_stats_path(get_cfsite_les_dir(17))\n",
    "les_23 = get_stats_path(get_cfsite_les_dir(23))\n",
    "les_30 = get_stats_path(get_cfsite_les_dir(30))"
   ]
  },
  {
   "cell_type": "code",
   "execution_count": 5,
   "metadata": {},
   "outputs": [
    {
     "name": "stderr",
     "output_type": "stream",
     "text": [
      "┌ Warning: The configuration passed to ClimaAtmos contains unused keys: dt_save_to_disk\n",
      "└ @ ClimaAtmos /central/groups/esm/jschmitt/ClimaAtmos.jl/src/solver/yaml_helper.jl:92\n",
      "\u001b[36m\u001b[1m[ \u001b[22m\u001b[39m\u001b[36m\u001b[1mInfo: \u001b[22m\u001b[39mRunning on CPUSingleThreaded.\n",
      "\u001b[36m\u001b[1m[ \u001b[22m\u001b[39m\u001b[36m\u001b[1mInfo: \u001b[22m\u001b[39mSetting up single-process ClimaAtmos run\n",
      "\u001b[36m\u001b[1m[ \u001b[22m\u001b[39m\u001b[36m\u001b[1mInfo: \u001b[22m\u001b[39mRunning ClimaCore in unthreaded mode.\n",
      "\u001b[33m\u001b[1m┌ \u001b[22m\u001b[39m\u001b[33m\u001b[1mWarning: \u001b[22m\u001b[39m`job_id` is empty and likely not passed to AtmosConfig.\n",
      "\u001b[33m\u001b[1m└ \u001b[22m\u001b[39m\u001b[90m@ ClimaAtmos /central/groups/esm/jschmitt/ClimaAtmos.jl/src/solver/types.jl:642\u001b[39m\n",
      "\u001b[36m\u001b[1m┌ \u001b[22m\u001b[39m\u001b[36m\u001b[1mInfo: \u001b[22m\u001b[39mMaking AtmosConfig with config files: \n",
      "\u001b[36m\u001b[1m└ \u001b[22m\u001b[39m   /central/groups/esm/jschmitt/ClimaAtmos.jl/src/solver/../../config/default_configs/default_config.yml\n"
     ]
    },
    {
     "data": {
      "text/plain": [
       "ClimaAtmos.AtmosConfig{Float32, ClimaParams.ParamDict{Float32}, Dict{String, Any}, ClimaComms.SingletonCommsContext{ClimaComms.CPUSingleThreaded}, Vector{String}}(ClimaParams.ParamDict{Float32}(Dict{String, Any}(\"optics_lookup_temperature_min\" => Dict{String, Any}(\"value\" => 160, \"type\" => \"float\", \"description\" => \"Miminum temperature in the lookup table for optical properties in RRTMGP\"), \"f_plane_coriolis_frequency\" => Dict{String, Any}(\"value\" => 0, \"type\" => \"float\"), \"Heymsfield_mu_cutoff\" => Dict{String, Any}(\"value\" => 6, \"type\" => \"float\", \"description\" => \"Limiter for shape parameter mu for ice in P3 scheme. See eq 3 in Morrison and Milbrandt 2015. Units: [-]\"), \"canopy_emissivity\" => Dict{String, Any}(\"value\" => 0.97, \"type\" => \"float\", \"description\" => \"Emissivity of the canopy\"), \"coefficient_a_m_cheng\" => Dict{String, Any}(\"value\" => 6.1, \"type\" => \"float\", \"description\" => \"a_m for Cheng momentum universal functions. From Cheng et al, 2005. DOI: 10.1007/s10546-004-1425-4\"), \"SB2006_raindrops_terminal_velocity_coeff_aR\" => Dict{String, Any}(\"value\" => 9.65, \"type\" => \"float\", \"description\" => \"Parameter of the raindrops terminal velocity equation [m/s]. From Seifert and Beheng, 2006. DOI: 10.1007/s00703-005-0112-4.\"), \"O2_michaelis_menten\" => Dict{String, Any}(\"value\" => 0.2784, \"type\" => \"float\", \"description\" => \"Michaelis-Menten parameter for O2 at 25 °C (mol/mol). Source: Bernacchi et al. (2001)\"), \"specific_leaf_density\" => Dict{String, Any}(\"value\" => 0.05, \"type\" => \"float\", \"description\" => \"Specific leaf density (kg C m-2 [leaf])\"), \"particle_density_quartz\" => Dict{String, Any}(\"value\" => 2660.0, \"type\" => \"float\", \"description\" => \"Source: Hillel (1982), De Vries (1966)\"), \"wavelength_per_PAR_photon\" => Dict{String, Any}(\"value\" => 5.0e-7, \"type\" => \"float\", \"description\" => \"Typical wavelength per PAR photon (m)\")…), Dict{String, Any}(\"zd_rayleigh\" => Dict{String, Any}(\"value\" => 20000.0), \"min_area_limiter_scale\" => Dict{String, Any}(\"value\" => 0), \"rain_autoconversion_timescale\" => Dict{String, Any}(\"value\" => 5777.697315577852, \"type\" => \"float\"), \"mixing_length_tke_surf_scale\" => Dict{String, Any}(\"value\" => 0.5507468907407347, \"type\" => \"float\"), \"mixing_length_diss_coeff\" => Dict{String, Any}(\"value\" => 0.13515021886991527, \"type\" => \"float\"), \"max_area_limiter_scale\" => Dict{String, Any}(\"value\" => 0), \"detr_buoy_coeff\" => Dict{String, Any}(\"value\" => 0), \"EDMF_max_area\" => Dict{String, Any}(\"value\" => 0.7), \"diagnostic_covariance_coeff\" => Dict{String, Any}(\"value\" => 1.858712542728056, \"type\" => \"float\"), \"entr_param_vec\" => Dict{String, Any}(\"value\" => [0.8232451844623447, 0.058776909570673115, 0.3812876963832981, 1.7521400508808318, -0.32149828410236075, -0.019764881527468917, -0.05926889361439075, 0.3610260801159997, 0.5411236315642174, -0.4681505113638351, 1.0674945161351919, 0.38794618444184004], \"type\" => \"float\")…)), Dict{String, Any}(\"sleve_eta\" => 0.7, \"surface_thermo_state_type\" => \"GCMSurfaceThermoState\", \"external_forcing_file\" => \"/groups/esm/ClimaArtifacts/artifacts/cfsite_gcm_forcing/HadGEM2-A_amip.2004-2008.07.nc\", \"external_forcing_type\" => \"shallow\", \"topo_smoothing\" => false, \"hyperdiff\" => \"false\", \"dt\" => \"10secs\", \"output_dir\" => nothing, \"prognostic_tke\" => true, \"override_τ_precip\" => true…), ClimaComms.SingletonCommsContext{ClimaComms.CPUSingleThreaded}(ClimaComms.CPUSingleThreaded()), [\"/central/groups/esm/jschmitt/ClimaAtmos.jl/src/solver/../../config/default_configs/default_config.yml\"], \"\")"
      ]
     },
     "metadata": {},
     "output_type": "display_data"
    }
   ],
   "source": [
    "atmos_config = CA.AtmosConfig(YAML.load_file(\"prognostic_edmf.yml\"))"
   ]
  },
  {
   "cell_type": "code",
   "execution_count": 6,
   "metadata": {},
   "outputs": [
    {
     "name": "stderr",
     "output_type": "stream",
     "text": [
      "\u001b[36m\u001b[1m┌ \u001b[22m\u001b[39m\u001b[36m\u001b[1mInfo: \u001b[22m\u001b[39mTopography\n",
      "\u001b[36m\u001b[1m└ \u001b[22m\u001b[39m  topography = \"NoWarp\"\n",
      "\u001b[33m\u001b[1m┌ \u001b[22m\u001b[39m\u001b[33m\u001b[1mWarning: \u001b[22m\u001b[39mperturb_initstate flag is ignored for single column configuration\n",
      "\u001b[33m\u001b[1m└ \u001b[22m\u001b[39m\u001b[90m@ ClimaAtmos /central/groups/esm/jschmitt/ClimaAtmos.jl/src/solver/type_getters.jl:200\u001b[39m\n",
      "\u001b[33m\u001b[1m┌ \u001b[22m\u001b[39m\u001b[33m\u001b[1mWarning: \u001b[22m\u001b[39mBubble correction not compatible with single column configuration. It will be switched off.\n",
      "\u001b[33m\u001b[1m└ \u001b[22m\u001b[39m\u001b[90m@ ClimaAtmos /central/groups/esm/jschmitt/ClimaAtmos.jl/src/solver/type_getters.jl:211\u001b[39m\n",
      "\u001b[36m\u001b[1m┌ \u001b[22m\u001b[39m\u001b[36m\u001b[1mInfo: \u001b[22m\u001b[39mz heights\n",
      "\u001b[36m\u001b[1m│ \u001b[22m\u001b[39m  z_mesh.faces =\n",
      "\u001b[36m\u001b[1m│ \u001b[22m\u001b[39m   61-element Vector{ClimaCore.Geometry.ZPoint{Float32}}:\n",
      "\u001b[36m\u001b[1m│ \u001b[22m\u001b[39m    ZPoint(0.0)\n",
      "\u001b[36m\u001b[1m│ \u001b[22m\u001b[39m    ZPoint(30.0)\n",
      "\u001b[36m\u001b[1m│ \u001b[22m\u001b[39m    ZPoint(62.88452)\n",
      "\u001b[36m\u001b[1m│ \u001b[22m\u001b[39m    ZPoint(98.928185)\n",
      "\u001b[36m\u001b[1m│ \u001b[22m\u001b[39m    ⋮\n",
      "\u001b[36m\u001b[1m│ \u001b[22m\u001b[39m    ZPoint(36278.35)\n",
      "\u001b[36m\u001b[1m│ \u001b[22m\u001b[39m    ZPoint(38135.195)\n",
      "\u001b[36m\u001b[1m└ \u001b[22m\u001b[39m    ZPoint(40000.0)\n",
      "\u001b[36m\u001b[1m┌ \u001b[22m\u001b[39m\u001b[36m\u001b[1mInfo: \u001b[22m\u001b[39mResolution stats: \n",
      "\u001b[36m\u001b[1m│ \u001b[22m\u001b[39m  Nq = 1\n",
      "\u001b[36m\u001b[1m│ \u001b[22m\u001b[39m  h_elem = 6\n",
      "\u001b[36m\u001b[1m│ \u001b[22m\u001b[39m  z_elem = 60\n",
      "\u001b[36m\u001b[1m│ \u001b[22m\u001b[39m  ncols = 1\n",
      "\u001b[36m\u001b[1m└ \u001b[22m\u001b[39m  ndofs_total = 60\n"
     ]
    },
    {
     "data": {
      "text/plain": [
       "60-element Vector{Float64}:\n",
       "    15.0\n",
       "    46.4422607421875\n",
       "    80.90635681152344\n",
       "   118.67970275878906\n",
       "   160.07644653320312\n",
       "   205.43984985351562\n",
       "   255.14479064941406\n",
       "   309.60052490234375\n",
       "   369.25372314453125\n",
       "   434.5913391113281\n",
       "     ⋮\n",
       " 24915.771484375\n",
       " 26546.9296875\n",
       " 28229.1953125\n",
       " 29957.484375\n",
       " 31726.03515625\n",
       " 33528.4609375\n",
       " 35357.828125\n",
       " 37206.7734375\n",
       " 39067.59765625"
      ]
     },
     "metadata": {},
     "output_type": "display_data"
    }
   ],
   "source": [
    "zc_model = get_z_grid(atmos_config, z_max = 40e3)\n",
    "zc_model"
   ]
  },
  {
   "cell_type": "code",
   "execution_count": 7,
   "metadata": {},
   "outputs": [
    {
     "data": {
      "text/plain": [
       "([\"../../../../../zhaoyi/GCMForcedLES/cfsite/07/HadGEM2-A/amip/Output.cfsite17_HadGEM2-A_amip_2004-2008.07.4x/stats/Stats.cfsite17_HadGEM2-A_amip_2004-2008.07.nc\", \"../../../../../zhaoyi/GCMForcedLES/cfsite/07/HadGEM2-A/amip/Output.cfsite23_HadGEM2-A_amip_2004-2008.07.4x/stats/Stats.cfsite23_HadGEM2-A_amip_2004-2008.07.nc\"], (17, 23))"
      ]
     },
     "metadata": {},
     "output_type": "display_data"
    }
   ],
   "source": [
    "ref_paths, _ = get_les_calibration_library()"
   ]
  },
  {
   "cell_type": "code",
   "execution_count": 9,
   "metadata": {},
   "outputs": [
    {
     "ename": "KeyError",
     "evalue": "KeyError: key \"theta_mean\" not found",
     "output_type": "error",
     "traceback": [
      "KeyError: key \"theta_mean\" not found\n",
      "\n",
      "Stacktrace:\n",
      " [1] getindex\n",
      "   @ ./dict.jl:498 [inlined]\n",
      " [2] normalize_profile(y::Vector{Float64}, y_names::Vector{String}, prof_dof::Int64, prof_indices::Vector{Bool}; norm_factors_dict::Nothing, z_score_norm::Bool, log_vars::Vector{Any}, Σ_const::Dict{Any, Any}, Σ_scaling::String)\n",
      "   @ Main /central/groups/esm/jschmitt/ClimaAtmos.jl/calibration/experiments/resolution_exp/helper_funcs.jl:361\n",
      " [3] get_obs(filename::String, y_names::Vector{String}, z_scm::Vector{Float64}; ti::Float64, tf::Float64, model_error::Nothing, norm_factors_dict::Nothing, z_score_norm::Bool, log_vars::Vector{Any}, Σ_const::Dict{Any, Any}, Σ_scaling::String)\n",
      "   @ Main /central/groups/esm/jschmitt/ClimaAtmos.jl/calibration/experiments/resolution_exp/helper_funcs.jl:585\n",
      " [4] top-level scope\n",
      "   @ /central/groups/esm/jschmitt/ClimaAtmos.jl/calibration/experiments/resolution_exp/jl_notebook_cell_df34fa98e69747e1a8f8a730347b8e2f_X10sdnNjb2RlLXJlbW90ZQ==.jl:3"
     ]
    }
   ],
   "source": [
    "# obs_test = get_obs(ref_paths[1], [\"ta\", \"clw\"], zc_model)\n",
    "\n",
    "obs_test = get_obs(\n",
    "    ref_paths[1],        # filename\n",
    "    [\"thetaa\"],       # y_names\n",
    "    zc_model,            # z_scm\n",
    "    ti=5.5 * 3600 * 24,  # optional ti argument (default already matches)\n",
    "    tf=6.0 * 3600 * 24,  # optional tf argument (default already matches)\n",
    "    model_error=nothing, # optional model_error argument (if none, pass nothing)\n",
    "    norm_factors_dict=nothing,  # optional norm_factors_dict\n",
    "    z_score_norm=false,   # boolean flag\n",
    "    log_vars=[],         # default empty array\n",
    "    Σ_const=Dict(),     # Σ_const (Dict or nothing)\n",
    "    Σ_scaling=\"const\"    # Σ_scaling (default string)\n",
    ")"
   ]
  },
  {
   "cell_type": "code",
   "execution_count": 23,
   "metadata": {},
   "outputs": [
    {
     "ename": "ArgumentError",
     "evalue": "ArgumentError: Package CommonDataModel not found in current path.\n- Run `import Pkg; Pkg.add(\"CommonDataModel\")` to install the CommonDataModel package.",
     "output_type": "error",
     "traceback": [
      "ArgumentError: Package CommonDataModel not found in current path.\n",
      "- Run `import Pkg; Pkg.add(\"CommonDataModel\")` to install the CommonDataModel package.\n",
      "\n",
      "Stacktrace:\n",
      "  [1] macro expansion\n",
      "    @ ./loading.jl:1772 [inlined]\n",
      "  [2] macro expansion\n",
      "    @ ./lock.jl:267 [inlined]\n",
      "  [3] __require(into::Module, mod::Symbol)\n",
      "    @ Base ./loading.jl:1753\n",
      "  [4] #invoke_in_world#3\n",
      "    @ ./essentials.jl:926 [inlined]\n",
      "  [5] invoke_in_world\n",
      "    @ ./essentials.jl:923 [inlined]\n",
      "  [6] require(into::Module, mod::Symbol)\n",
      "    @ Base ./loading.jl:1746\n",
      "  [7] eval\n",
      "    @ ./boot.jl:385 [inlined]\n",
      "  [8] include_string(mapexpr::typeof(REPL.softscope), mod::Module, code::String, filename::String)\n",
      "    @ Base ./loading.jl:2076\n",
      "  [9] #invokelatest#2\n",
      "    @ ./essentials.jl:892 [inlined]\n",
      " [10] invokelatest\n",
      "    @ ./essentials.jl:889 [inlined]\n",
      " [11] (::VSCodeServer.var\"#217#218\"{VSCodeServer.NotebookRunCellArguments, String})()\n",
      "    @ VSCodeServer ~/.vscode-server/extensions/julialang.language-julia-1.124.2/scripts/packages/VSCodeServer/src/serve_notebook.jl:24\n",
      " [12] withpath(f::VSCodeServer.var\"#217#218\"{VSCodeServer.NotebookRunCellArguments, String}, path::String)\n",
      "    @ VSCodeServer ~/.vscode-server/extensions/julialang.language-julia-1.124.2/scripts/packages/VSCodeServer/src/repl.jl:276\n",
      " [13] notebook_runcell_request(conn::VSCodeServer.JSONRPC.JSONRPCEndpoint{Base.PipeEndpoint, Base.PipeEndpoint}, params::VSCodeServer.NotebookRunCellArguments)\n",
      "    @ VSCodeServer ~/.vscode-server/extensions/julialang.language-julia-1.124.2/scripts/packages/VSCodeServer/src/serve_notebook.jl:13\n",
      " [14] dispatch_msg(x::VSCodeServer.JSONRPC.JSONRPCEndpoint{Base.PipeEndpoint, Base.PipeEndpoint}, dispatcher::VSCodeServer.JSONRPC.MsgDispatcher, msg::Dict{String, Any})\n",
      "    @ VSCodeServer.JSONRPC ~/.vscode-server/extensions/julialang.language-julia-1.124.2/scripts/packages/JSONRPC/src/typed.jl:67\n",
      " [15] serve_notebook(pipename::String, debugger_pipename::String, outputchannel_logger::Base.CoreLogging.SimpleLogger; error_handler::var\"#5#10\"{String})\n",
      "    @ VSCodeServer ~/.vscode-server/extensions/julialang.language-julia-1.124.2/scripts/packages/VSCodeServer/src/serve_notebook.jl:147\n",
      " [16] top-level scope\n",
      "    @ ~/.vscode-server/extensions/julialang.language-julia-1.124.2/scripts/notebook/notebook.jl:35"
     ]
    }
   ],
   "source": [
    "test_ds = NCDataset(ref_paths[1])\n",
    "test_ds"
   ]
  },
  {
   "cell_type": "code",
   "execution_count": null,
   "metadata": {},
   "outputs": [
    {
     "name": "stderr",
     "output_type": "stream",
     "text": [
      "\u001b[32m\u001b[1m   Resolving\u001b[22m\u001b[39m package versions...\n",
      "\u001b[32m\u001b[1m    Updating\u001b[22m\u001b[39m `/central/groups/esm/jschmitt/ClimaAtmos.jl/calibration/experiments/resolution_exp/Project.toml`\n",
      "  \u001b[90m[1fbeeb36] \u001b[39m\u001b[92m+ CommonDataModel v0.3.6\u001b[39m\n",
      "\u001b[32m\u001b[1m  No Changes\u001b[22m\u001b[39m to `/central/groups/esm/jschmitt/ClimaAtmos.jl/calibration/experiments/resolution_exp/Manifest.toml`\n",
      "\u001b[32m\u001b[1mPrecompiling\u001b[22m\u001b[39m project...\n",
      "\u001b[32m  ✓ \u001b[39m\u001b[90mStructArrays → StructArraysGPUArraysCoreExt\u001b[39m\n",
      "\u001b[32m  ✓ \u001b[39m\u001b[90mXorg_xcb_util_jll\u001b[39m\n",
      "\u001b[32m  ✓ \u001b[39m\u001b[90mLibtiff_jll\u001b[39m\n",
      "\u001b[32m  ✓ \u001b[39m\u001b[90mDbus_jll\u001b[39m\n",
      "\u001b[32m  ✓ \u001b[39m\u001b[90mWayland_jll\u001b[39m\n",
      "\u001b[32m  ✓ \u001b[39m\u001b[90meudev_jll\u001b[39m\n",
      "\u001b[32m  ✓ \u001b[39m\u001b[90mXorg_libXfixes_jll\u001b[39m\n",
      "\u001b[32m  ✓ \u001b[39m\u001b[90mXorg_libxkbfile_jll\u001b[39m\n",
      "\u001b[32m  ✓ \u001b[39m\u001b[90mXorg_libXinerama_jll\u001b[39m\n",
      "\u001b[32m  ✓ \u001b[39m\u001b[90mXorg_libXrandr_jll\u001b[39m\n",
      "\u001b[32m  ✓ \u001b[39m\u001b[90mLibglvnd_jll\u001b[39m\n",
      "\u001b[91m  ✗ \u001b[39m\u001b[90mFFMPEG\u001b[39m\n",
      "\u001b[32m  ✓ \u001b[39m\u001b[90mImageIO\u001b[39m\n",
      "\u001b[32m  ✓ \u001b[39m\u001b[90mlibinput_jll\u001b[39m\n",
      "\u001b[32m  ✓ \u001b[39m\u001b[90mPango_jll\u001b[39m\n",
      "\u001b[32m  ✓ \u001b[39m\u001b[90mXorg_xcb_util_keysyms_jll\u001b[39m\n",
      "\u001b[32m  ✓ \u001b[39m\u001b[90mXorg_xcb_util_renderutil_jll\u001b[39m\n",
      "\u001b[32m  ✓ \u001b[39m\u001b[90mXorg_libXcursor_jll\u001b[39m\n",
      "\u001b[32m  ✓ \u001b[39m\u001b[90mXorg_xcb_util_image_jll\u001b[39m\n",
      "\u001b[32m  ✓ \u001b[39m\u001b[90mXorg_xcb_util_wm_jll\u001b[39m\n",
      "\u001b[32m  ✓ \u001b[39m\u001b[90mXorg_libXi_jll\u001b[39m\n",
      "\u001b[32m  ✓ \u001b[39m\u001b[90mXorg_xkbcomp_jll\u001b[39m\n",
      "\u001b[32m  ✓ \u001b[39m\u001b[90mXorg_xcb_util_cursor_jll\u001b[39m\n",
      "\u001b[32m  ✓ \u001b[39m\u001b[90mLatexify → DataFramesExt\u001b[39m\n",
      "\u001b[32m  ✓ \u001b[39m\u001b[90mXorg_xkeyboard_config_jll\u001b[39m\n",
      "\u001b[32m  ✓ \u001b[39m\u001b[90mKernelDensity\u001b[39m\n",
      "\u001b[32m  ✓ \u001b[39m\u001b[90mxkbcommon_jll\u001b[39m\n",
      "\u001b[32m  ✓ \u001b[39m\u001b[90mCairo\u001b[39m\n",
      "\u001b[32m  ✓ \u001b[39m\u001b[90mLatexify → SparseArraysExt\u001b[39m\n",
      "\u001b[32m  ✓ \u001b[39m\u001b[90mPlotThemes\u001b[39m\n",
      "\u001b[32m  ✓ \u001b[39m\u001b[90mVulkan_Loader_jll\u001b[39m\n",
      "\u001b[32m  ✓ \u001b[39m\u001b[90mlibdecor_jll\u001b[39m\n",
      "\u001b[32m  ✓ \u001b[39m\u001b[90mUnitfulLatexify\u001b[39m\n",
      "\u001b[32m  ✓ \u001b[39m\u001b[90mRecipesPipeline\u001b[39m\n",
      "\u001b[32m  ✓ \u001b[39m\u001b[90mHTTP\u001b[39m\n",
      "\u001b[32m  ✓ \u001b[39m\u001b[90mQt6Base_jll\u001b[39m\n",
      "\u001b[32m  ✓ \u001b[39m\u001b[90mGLFW_jll\u001b[39m\n",
      "\u001b[32m  ✓ \u001b[39m\u001b[90mQt6ShaderTools_jll\u001b[39m\n",
      "\u001b[32m  ✓ \u001b[39m\u001b[90mGR_jll\u001b[39m\n",
      "\u001b[32m  ✓ \u001b[39m\u001b[90mQt6Declarative_jll\u001b[39m\n",
      "\u001b[32m  ✓ \u001b[39mCSV\n",
      "\u001b[32m  ✓ \u001b[39m\u001b[90mQt6Wayland_jll\u001b[39m\n",
      "\u001b[32m  ✓ \u001b[39m\u001b[90mGR\u001b[39m\n",
      "\u001b[91m  ✗ \u001b[39m\u001b[90mPlots\u001b[39m\n",
      "\u001b[91m  ✗ \u001b[39m\u001b[90mPlots → FileIOExt\u001b[39m\n",
      "\u001b[91m  ✗ \u001b[39m\u001b[90mPlots → UnitfulExt\u001b[39m\n",
      "\u001b[91m  ✗ \u001b[39m\u001b[90mPlots → GeometryBasicsExt\u001b[39m\n"
     ]
    }
   ],
   "source": [
    "Pkg.add(\"CommonDataModel\")"
   ]
  }
 ],
 "metadata": {
  "kernelspec": {
   "display_name": "Julia 1.10.3",
   "language": "julia",
   "name": "julia-1.10"
  },
  "language_info": {
   "file_extension": ".jl",
   "mimetype": "application/julia",
   "name": "julia",
   "version": "1.10.3"
  }
 },
 "nbformat": 4,
 "nbformat_minor": 2
}
