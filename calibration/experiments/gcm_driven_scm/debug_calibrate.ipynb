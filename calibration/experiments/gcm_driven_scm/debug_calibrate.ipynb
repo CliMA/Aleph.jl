{
 "cells": [
  {
   "cell_type": "code",
   "execution_count": 8,
   "metadata": {},
   "outputs": [
    {
     "name": "stderr",
     "output_type": "stream",
     "text": [
      "\u001b[32m\u001b[1m  Activating\u001b[22m\u001b[39m project at `/central/home/jschmitt/ClimaAtmos.jl/calibration/experiments/gcm_driven_scm`\n"
     ]
    }
   ],
   "source": [
    "using Pkg; Pkg.activate(\".\")\n",
    "# filter(x -> occursin(\"SLURM\", x), keys(ENV))\n",
    "#ENV[\"SLURM_NNODES\"]\n",
    "#parse(Int, ENV[\"SLURM_JOB_CPUS_PER_NODE\"])"
   ]
  },
  {
   "cell_type": "code",
   "execution_count": 9,
   "metadata": {},
   "outputs": [
    {
     "data": {
      "text/plain": [
       "\"/central/home/jschmitt/ClimaAtmos.jl/calibration/experiments/gcm_driven_scm/observations.jld2\""
      ]
     },
     "metadata": {},
     "output_type": "display_data"
    }
   ],
   "source": [
    "# use in single threaded mode\n",
    "import ClimaAtmos as CA\n",
    "import ClimaAnalysis: SimDir, get, slice, average_xy\n",
    "import CairoMakie\n",
    "import JLD2\n",
    "import LinearAlgebra: I\n",
    "import EnsembleKalmanProcesses as EKP\n",
    "import Statistics: var, mean\n",
    "using Test\n",
    "using Revise\n",
    "\n",
    "include(\"observation_map.jl\")\n",
    "\n",
    "using Revise\n",
    "import ClimaCalibrate as CAL\n",
    "import ClimaAtmos as CA\n",
    "experiment_dir = joinpath(pkgdir(CA), \"calibration\", \"experiments\", \"gcm_driven_scm\")\n",
    "model_interface =\n",
    "    joinpath(pkgdir(CA), \"calibration\", \"model_interface.jl\")\n",
    "output_dir = joinpath(\"output\", \"gcm_driven_scm\")\n",
    "# include model interface\n",
    "includet(model_interface)\n",
    "obs_path = joinpath(experiment_dir, \"observations.jld2\")\n"
   ]
  },
  {
   "cell_type": "code",
   "execution_count": 10,
   "metadata": {},
   "outputs": [
    {
     "data": {
      "text/plain": [
       "ExperimentConfig(3, 9, [285.0], LinearAlgebra.UniformScaling{Float64}(0.1), ParameterDistribution with 5 entries: \n",
       "'mixing_length_eddy_viscosity_coefficient' with EnsembleKalmanProcesses.ParameterDistributions.Constraint{EnsembleKalmanProcesses.ParameterDistributions.BoundedBelow}[Bounds: (0.0, ∞)] over distribution EnsembleKalmanProcesses.ParameterDistributions.Parameterized(Distributions.Normal{Float64}(μ=-1.9686573911265683, σ=0.07133771448169109)) \n",
       "'detr_massflux_vertdiv_coeff' with EnsembleKalmanProcesses.ParameterDistributions.Constraint{EnsembleKalmanProcesses.ParameterDistributions.BoundedBelow}[Bounds: (0.0, ∞)] over distribution EnsembleKalmanProcesses.ParameterDistributions.Parameterized(Distributions.Normal{Float64}(μ=0.13599544622138604, σ=0.0867928125339026)) \n",
       "'entr_coeff' with EnsembleKalmanProcesses.ParameterDistributions.Constraint{EnsembleKalmanProcesses.ParameterDistributions.BoundedBelow}[Bounds: (0.0, ∞)] over distribution EnsembleKalmanProcesses.ParameterDistributions.Parameterized(Distributions.Normal{Float64}(μ=-1.20894796975252, σ=0.09975134511959267)) \n",
       "'entr_inv_tau' with EnsembleKalmanProcesses.ParameterDistributions.Constraint{EnsembleKalmanProcesses.ParameterDistributions.BoundedBelow}[Bounds: (0.0, ∞)] over distribution EnsembleKalmanProcesses.ParameterDistributions.Parameterized(Distributions.Normal{Float64}(μ=-9.215315537402766, σ=0.09975134511959267)) \n",
       "'mixing_length_diss_coeff' with EnsembleKalmanProcesses.ParameterDistributions.Constraint{EnsembleKalmanProcesses.ParameterDistributions.BoundedBelow}[Bounds: (0.0, ∞)] over distribution EnsembleKalmanProcesses.ParameterDistributions.Parameterized(Distributions.Normal{Float64}(μ=-1.5151597247402013, σ=0.045431093106500196)) \n",
       ", \"output/gcm_driven_scm\")"
      ]
     },
     "metadata": {},
     "output_type": "display_data"
    }
   ],
   "source": [
    "observations = JLD2.load_object(obs_path)\n",
    "noise = 0.1 * I\n",
    "n_iterations = 3\n",
    "ensemble_size = 9\n",
    "prior = CAL.get_prior(joinpath(experiment_dir, \"prior.toml\"))\n",
    "experiment_config = CAL.ExperimentConfig(;\n",
    "    n_iterations,\n",
    "    ensemble_size,\n",
    "    observations,\n",
    "    noise,\n",
    "    output_dir,\n",
    "    prior,\n",
    ")"
   ]
  },
  {
   "cell_type": "code",
   "execution_count": 11,
   "metadata": {},
   "outputs": [
    {
     "data": {
      "text/plain": [
       "1-element Vector{Float64}:\n",
       " 285.0"
      ]
     },
     "metadata": {},
     "output_type": "display_data"
    }
   ],
   "source": [
    "obs_path = joinpath(experiment_dir, \"observations.jld2\")\n",
    "observations = JLD2.load_object(obs_path)\n",
    "observations"
   ]
  },
  {
   "cell_type": "code",
   "execution_count": null,
   "metadata": {},
   "outputs": [],
   "source": [
    "@everywhere begin\n",
    "    using JLD2\n",
    "    experiment_dir = dirname(Base.active_project())\n",
    "    obs_path = joinpath(experiment_dir, \"observations.jld2\")\n",
    "    if !isfile(obs_path)\n",
    "        error(\"Observation file not found at: $obs_path\")\n",
    "    else\n",
    "        println(\"Worker \", myid(), \" can access the observations file.\")\n",
    "    end\n",
    "end"
   ]
  },
  {
   "cell_type": "code",
   "execution_count": null,
   "metadata": {},
   "outputs": [],
   "source": [
    "reshape(G_ens[1,:], 1, 10)\n",
    "EKP.update_ensemble!(eki, reshape(G_ens[1,:], 1, 10))\n",
    "CAL.save_eki_state(eki, output_dir, 1, prior)"
   ]
  }
 ],
 "metadata": {
  "kernelspec": {
   "display_name": "Julia 1.10.3",
   "language": "julia",
   "name": "julia-1.10"
  },
  "language_info": {
   "file_extension": ".jl",
   "mimetype": "application/julia",
   "name": "julia",
   "version": "1.10.3"
  }
 },
 "nbformat": 4,
 "nbformat_minor": 2
}
