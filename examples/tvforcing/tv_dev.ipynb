{
 "cells": [
  {
   "cell_type": "code",
   "execution_count": 1,
   "metadata": {},
   "outputs": [
    {
     "name": "stderr",
     "output_type": "stream",
     "text": [
      "\u001b[33m\u001b[1m┌ \u001b[22m\u001b[39m\u001b[33m\u001b[1mWarning: \u001b[22m\u001b[39mCircular dependency detected. Precompilation will be skipped for:\n",
      "\u001b[33m\u001b[1m│ \u001b[22m\u001b[39m  GridLayoutBase [3955a311-db13-416c-9275-1d80ed98e5e9]\n",
      "\u001b[33m\u001b[1m│ \u001b[22m\u001b[39m  PreallocationTools [d236fae5-4411-538c-8e31-a6e3d9e00b46]\n",
      "\u001b[33m\u001b[1m│ \u001b[22m\u001b[39m  SpecialFunctionsExt [1285c0f1-ff9f-5867-b66e-0f359bcf09ba]\n",
      "\u001b[33m\u001b[1m│ \u001b[22m\u001b[39m  SciMLOperatorsStaticArraysCoreExt [a2df0a61-553a-563b-aed7-0ce21874eb58]\n",
      "\u001b[33m\u001b[1m│ \u001b[22m\u001b[39m  DiffEqBaseChainRulesCoreExt [b00db79b-61e3-50fb-b26f-2d35b2d9e4ed]\n",
      "\u001b[33m\u001b[1m│ \u001b[22m\u001b[39m  StaticArrayInterface [0d7ed370-da01-4f52-bd93-41d350b8b718]\n",
      "\u001b[33m\u001b[1m│ \u001b[22m\u001b[39m  RecursiveArrayToolsFastBroadcastExt [42296aa8-c874-5f57-b5c1-8d6f5ebd5400]\n",
      "\u001b[33m\u001b[1m│ \u001b[22m\u001b[39m  SciMLBase [0bca4576-84f4-4d90-8ffe-ffa030f20462]\n",
      "\u001b[33m\u001b[1m│ \u001b[22m\u001b[39m  GPUArrays [0c68f7d7-f131-5f86-a1c3-88cf8149b2d7]\n",
      "\u001b[33m\u001b[1m│ \u001b[22m\u001b[39m  DiffEqBaseCUDAExt [78064ecb-8a7e-51fd-a998-f0197ddca326]\n",
      "\u001b[33m\u001b[1m│ \u001b[22m\u001b[39m  KernelAbstractions [63c18a36-062a-441e-b654-da1e3ab1ce7c]\n",
      "\u001b[33m\u001b[1m│ \u001b[22m\u001b[39m  CreateParametersExt [de10cf08-5a56-53da-a061-ea54c6b27d66]\n",
      "\u001b[33m\u001b[1m│ \u001b[22m\u001b[39m  RecursiveArrayToolsStructArraysExt [07510ace-05c5-59ac-8535-cc0df8d4a157]\n",
      "\u001b[33m\u001b[1m│ \u001b[22m\u001b[39m  RecursiveArrayToolsSparseArraysExt [73e54eaf-3344-511d-b088-1ac5413eca63]\n",
      "\u001b[33m\u001b[1m│ \u001b[22m\u001b[39m  StrideArraysCore [7792a7ef-975c-4747-a70f-980b88e8d1da]\n",
      "\u001b[33m\u001b[1m│ \u001b[22m\u001b[39m  ArrayInterfaceCUDAExt [f78586ac-ba87-5ec7-b3a5-84bc1b258ee3]\n",
      "\u001b[33m\u001b[1m│ \u001b[22m\u001b[39m  ClimaUtilities [b3f4f4ca-9299-4f7f-bd9b-81e1242a7513]\n",
      "\u001b[33m\u001b[1m│ \u001b[22m\u001b[39m  ShaderAbstractions [65257c39-d410-5151-9873-9b3e5be5013e]\n",
      "\u001b[33m\u001b[1m│ \u001b[22m\u001b[39m  LinearOperatorsCUDAExt [54ba8605-469e-5680-a54a-585c2e64e6c1]\n",
      "\u001b[33m\u001b[1m│ \u001b[22m\u001b[39m  MultiBroadcastFusionCUDAExt [ae6c37a3-dd38-59b3-869b-c80ef4fad6ad]\n",
      "\u001b[33m\u001b[1m│ \u001b[22m\u001b[39m  ClimaCoreSpectra [c2caaa1d-32ae-4754-ba0d-80e7561362e9]\n",
      "\u001b[33m\u001b[1m│ \u001b[22m\u001b[39m  Polyester [f517fe37-dbe3-4b94-8317-1923a5111588]\n",
      "\u001b[33m\u001b[1m│ \u001b[22m\u001b[39m  ClimaCore [d414da3d-4745-48bb-8d80-42e94e092884]\n",
      "\u001b[33m\u001b[1m│ \u001b[22m\u001b[39m  CloseOpenIntervals [fb6a15b2-703c-40df-9091-08a04967cfa9]\n",
      "\u001b[33m\u001b[1m│ \u001b[22m\u001b[39m  CairoMakie [13f3f980-e62b-5c42-98c6-ff1f3baf88f0]\n",
      "\u001b[33m\u001b[1m│ \u001b[22m\u001b[39m  ClimaCorePlots [cf7c7e5a-b407-4c48-9047-11a94a308626]\n",
      "\u001b[33m\u001b[1m│ \u001b[22m\u001b[39m  FastBroadcast [7034ab61-46d4-4ed7-9d0f-46aef9175898]\n",
      "\u001b[33m\u001b[1m│ \u001b[22m\u001b[39m  MathTeXEngine [0a4f8689-d25c-4efe-a92b-7142dfc1aa53]\n",
      "\u001b[33m\u001b[1m│ \u001b[22m\u001b[39m  CUDA [052768ef-5323-5732-b1bb-66c8b64840ba]\n",
      "\u001b[33m\u001b[1m│ \u001b[22m\u001b[39m  ClimaCoreMakie [908f55d8-4145-4867-9c14-5dad1a479e4d]\n",
      "\u001b[33m\u001b[1m│ \u001b[22m\u001b[39m  RRTMGP [a01a1ee8-cea4-48fc-987c-fc7878d79da1]\n",
      "\u001b[33m\u001b[1m│ \u001b[22m\u001b[39m  SparseArraysExt [85068d23-b5fb-53f1-8204-05c2aba6942f]\n",
      "\u001b[33m\u001b[1m│ \u001b[22m\u001b[39m  ClimaAnalysisMakieExt [39307495-3600-5de6-b441-d1b26a74225a]\n",
      "\u001b[33m\u001b[1m│ \u001b[22m\u001b[39m  ClimaCoreTempestRemap [d934ef94-cdd4-4710-83d6-720549644b70]\n",
      "\u001b[33m\u001b[1m│ \u001b[22m\u001b[39m  LayoutPointers [10f19ff3-798f-405d-979b-55457f8fc047]\n",
      "\u001b[33m\u001b[1m│ \u001b[22m\u001b[39m  StructArraysGPUArraysCoreExt [cbbf52aa-d660-55d4-8a5a-33845bbaa85d]\n",
      "\u001b[33m\u001b[1m│ \u001b[22m\u001b[39m  AtomixCUDAExt [13011619-4c7c-5ef0-948f-5fc81565cd05]\n",
      "\u001b[33m\u001b[1m│ \u001b[22m\u001b[39m  CUDAExt [11b7e2e0-d079-575b-885e-0ab22ef3252c]\n",
      "\u001b[33m\u001b[1m│ \u001b[22m\u001b[39m  ClimaUtilitiesClimaCoreTempestRemapExt [9c911ae0-7c1b-5e7b-8f16-0e1f27cf44e9]\n",
      "\u001b[33m\u001b[1m│ \u001b[22m\u001b[39m  Makie [ee78f7c6-11fb-53f2-987a-cfe4a2b5a57a]\n",
      "\u001b[33m\u001b[1m│ \u001b[22m\u001b[39m  ClimaTimeSteppers [595c0a79-7f3d-439a-bc5a-b232dc3bde79]\n",
      "\u001b[33m\u001b[1m│ \u001b[22m\u001b[39m  ClimaUtilitiesClimaCoreInterpolationsExt [0a0a4c67-443a-5cd9-a529-60c88b1c335b]\n",
      "\u001b[33m\u001b[1m│ \u001b[22m\u001b[39m  LinearAlgebraExt [66d79d19-2cc4-5b0b-ac7a-b340256d1ecd]\n",
      "\u001b[33m\u001b[1m│ \u001b[22m\u001b[39m  ClimaUtilitiesClimaCoreExt [6f608162-b363-59cf-8e98-62d6099b30d4]\n",
      "\u001b[33m\u001b[1m│ \u001b[22m\u001b[39m  ClimaDiagnostics [1ecacbb8-0713-4841-9a07-eb5aa8a2d53f]\n",
      "\u001b[33m\u001b[1m│ \u001b[22m\u001b[39m  DiffEqBaseUnitfulExt [aeb06bb4-539b-5a1b-8332-034ed9f8ca66]\n",
      "\u001b[33m\u001b[1m│ \u001b[22m\u001b[39m  DiffEqBaseMPIExt [e696d53e-2826-5b30-b80b-453f013d5513]\n",
      "\u001b[33m\u001b[1m│ \u001b[22m\u001b[39m  EnzymeExt [6425d1ab-ad86-5f6e-82f1-f5118e0dc800]\n",
      "\u001b[33m\u001b[1m│ \u001b[22m\u001b[39m  SciMLBaseChainRulesCoreExt [4676cac9-c8e0-5d6e-a4e0-e3351593cdf5]\n",
      "\u001b[33m\u001b[1m│ \u001b[22m\u001b[39m  ClimaCoreCUDAExt [a7a7ed17-848c-5b83-b938-436e0216e0e4]\n",
      "\u001b[33m\u001b[1m│ \u001b[22m\u001b[39m  ClimaAtmos [b2c96348-7fb7-4fe0-8da9-78d88439e717]\n",
      "\u001b[33m\u001b[1m│ \u001b[22m\u001b[39m  SciMLBaseMakieExt [565f26a4-c902-5eae-92ad-e10714a9d9de]\n",
      "\u001b[33m\u001b[1m│ \u001b[22m\u001b[39m  Packing [19eb6ba3-879d-56ad-ad62-d5c202156566]\n",
      "\u001b[33m\u001b[1m│ \u001b[22m\u001b[39m  KrylovExt [0c77a23c-40e2-58cd-a123-9f7382d77d91]\n",
      "\u001b[33m\u001b[1m│ \u001b[22m\u001b[39m  ChainRulesCoreExt [eae2faf6-b232-58cb-a410-7764fda2830c]\n",
      "\u001b[33m\u001b[1m│ \u001b[22m\u001b[39m  TaylorSeriesRATExt [c4ea8832-5bc1-5fe6-84e3-c3fd0b12584c]\n",
      "\u001b[33m\u001b[1m│ \u001b[22m\u001b[39m  StaticArrayInterfaceStaticArraysExt [06b0261c-7a9b-5753-9bdf-fd6840237b4a]\n",
      "\u001b[33m\u001b[1m│ \u001b[22m\u001b[39m  ClimaUtilitiesClimaCoreNCDatasetsExt [48571bb3-c79f-5bee-8716-162918169e45]\n",
      "\u001b[33m\u001b[1m│ \u001b[22m\u001b[39m  CloudMicrophysics [6a9e3e04-43cd-43ba-94b9-e8782df3c71b]\n",
      "\u001b[33m\u001b[1m│ \u001b[22m\u001b[39m  CubedSphere [7445602f-e544-4518-8976-18f8e8ae6cdb]\n",
      "\u001b[33m\u001b[1m│ \u001b[22m\u001b[39m  CreateParametersExt [674f2e01-4fca-51ba-852d-9b26a1a0620b]\n",
      "\u001b[33m\u001b[1m│ \u001b[22m\u001b[39m  DiffEqBaseDistributionsExt [24f3332a-0dc5-5d65-94b6-25e75cab9690]\n",
      "\u001b[33m\u001b[1m│ \u001b[22m\u001b[39m  GeometryBasics [5c1252a2-5f33-56bf-86c9-59e7332b4326]\n",
      "\u001b[33m\u001b[1m│ \u001b[22m\u001b[39m  StaticArrayInterfaceOffsetArraysExt [a8fab69c-de6f-5f74-aba3-bef19c2d033f]\n",
      "\u001b[33m\u001b[1m│ \u001b[22m\u001b[39m  MakieCore [20f20a25-4f0e-4fdf-b5d1-57303727442b]\n",
      "\u001b[33m\u001b[1m│ \u001b[22m\u001b[39m  EnzymeCoreExt [c3ed20f3-746d-5a71-99a7-df1cca8c2b90]\n",
      "\u001b[33m\u001b[1m│ \u001b[22m\u001b[39m  SciMLOperators [c0aeaf25-5076-4817-a8d5-81caf7dfa961]\n",
      "\u001b[33m\u001b[1m│ \u001b[22m\u001b[39m  Thermodynamics [b60c26fb-14c3-4610-9d3e-2d17fe7ff00c]\n",
      "\u001b[33m\u001b[1m│ \u001b[22m\u001b[39m  RecursiveArrayTools [731186ca-8d62-57ce-b412-fbd966d074cd]\n",
      "\u001b[33m\u001b[1m│ \u001b[22m\u001b[39m  ClimaCommsCUDAExt [99b8ddb0-feda-59bb-a619-477702080bcc]\n",
      "\u001b[33m\u001b[1m│ \u001b[22m\u001b[39m  RRTMGPCUDAExt [fd45b194-e64b-5d9e-b7f1-19fc9666344c]\n",
      "\u001b[33m\u001b[1m│ \u001b[22m\u001b[39m  ClimaCoreVTK [c8b6d40d-e815-466f-95ae-c48aefa668fa]\n",
      "\u001b[33m\u001b[1m│ \u001b[22m\u001b[39m  ClimaUtilitiesNCDatasetsExt [b3b1e7e8-7957-5ea1-babc-8e7829e72506]\n",
      "\u001b[33m\u001b[1m│ \u001b[22m\u001b[39m  SciMLStructures [53ae85a6-f571-4167-b2af-e1d143709226]\n",
      "\u001b[33m\u001b[1m│ \u001b[22m\u001b[39m  NaNStatistics [b946abbf-3ea7-4610-9019-9858bfdeaf2d]\n",
      "\u001b[33m\u001b[1m│ \u001b[22m\u001b[39m  FreeTypeAbstraction [663a7486-cb36-511b-a19d-713bb74d65c9]\n",
      "\u001b[33m\u001b[1m│ \u001b[22m\u001b[39m  CreateParametersExt [ca94d503-9854-5e8b-94ec-6bd4f4ce5751]\n",
      "\u001b[33m\u001b[1m│ \u001b[22m\u001b[39m  SurfaceFluxes [49b00bb7-8bd4-4f2b-b78c-51cd0450215f]\n",
      "\u001b[33m\u001b[1m│ \u001b[22m\u001b[39m  SymbolicIndexingInterface [2efcf032-c050-4f8e-a9bb-153293bab1f5]\n",
      "\u001b[33m\u001b[1m│ \u001b[22m\u001b[39m  RecursiveArrayToolsForwardDiffExt [14203109-85fb-5f77-af23-1cb7d9032242]\n",
      "\u001b[33m\u001b[1m│ \u001b[22m\u001b[39m  SciMLOperatorsSparseArraysExt [9985400b-97ec-5583-b534-4f70b643bcf7]\n",
      "\u001b[33m\u001b[1m│ \u001b[22m\u001b[39m  ClimaAnalysis [29b5916a-a76c-4e73-9657-3c8fd22e65e6]\n",
      "\u001b[33m\u001b[1m│ \u001b[22m\u001b[39m  DiffEqBaseSparseArraysExt [4131c53f-b1d6-5635-a7a3-57f6f930b644]\n",
      "\u001b[33m\u001b[1m│ \u001b[22m\u001b[39m  DiffEqBase [2b5f629d-d688-5b77-993f-72d75c75574e]\n",
      "\u001b[33m\u001b[1m└ \u001b[22m\u001b[39m\u001b[90m@ Pkg.API /clima/software/julia/julia-1.10.5/share/julia/stdlib/v1.10/Pkg/src/API.jl:1279\u001b[39m\n",
      "\u001b[36m\u001b[1m[ \u001b[22m\u001b[39m\u001b[36m\u001b[1mInfo: \u001b[22m\u001b[39mPrecompiling ClimaAtmos [b2c96348-7fb7-4fe0-8da9-78d88439e717]\n"
     ]
    }
   ],
   "source": [
    "import ClimaAtmos as CA\n",
    "import ClimaUtilities\n",
    "import ClimaUtilities: TimeVaryingInputs\n",
    "using Dates\n",
    "import ClimaCoreTempestRemap\n",
    "import ClimaCore.Fields"
   ]
  },
  {
   "cell_type": "code",
   "execution_count": 2,
   "metadata": {},
   "outputs": [
    {
     "data": {
      "text/plain": [
       "\"/home/jschmitt/ClimaAtmos.jl/examples/tvforcing\""
      ]
     },
     "execution_count": 2,
     "metadata": {},
     "output_type": "execute_result"
    }
   ],
   "source": [
    "pwd()"
   ]
  },
  {
   "cell_type": "code",
   "execution_count": 11,
   "metadata": {},
   "outputs": [],
   "source": [
    "cd(\"../../\")"
   ]
  },
  {
   "cell_type": "code",
   "execution_count": 12,
   "metadata": {},
   "outputs": [
    {
     "name": "stderr",
     "output_type": "stream",
     "text": [
      "\u001b[36m\u001b[1m[ \u001b[22m\u001b[39m\u001b[36m\u001b[1mInfo: \u001b[22m\u001b[39mLoading yaml file config/default_configs/default_config.yml\n",
      "\u001b[36m\u001b[1m[ \u001b[22m\u001b[39m\u001b[36m\u001b[1mInfo: \u001b[22m\u001b[39mLoading yaml file config/model_configs/prognostic_edmfx_gcmdriven_column.yml\n",
      "\u001b[36m\u001b[1m[ \u001b[22m\u001b[39m\u001b[36m\u001b[1mInfo: \u001b[22m\u001b[39mRunning on CPUSingleThreaded\n",
      "\u001b[36m\u001b[1m[ \u001b[22m\u001b[39m\u001b[36m\u001b[1mInfo: \u001b[22m\u001b[39mSetting up single-process ClimaAtmos run\n",
      "\u001b[36m\u001b[1m[ \u001b[22m\u001b[39m\u001b[36m\u001b[1mInfo: \u001b[22m\u001b[39mRunning ClimaCore in unthreaded mode\n",
      "\u001b[36m\u001b[1m┌ \u001b[22m\u001b[39m\u001b[36m\u001b[1mInfo: \u001b[22m\u001b[39mMaking AtmosConfig with config files: \n",
      "\u001b[36m\u001b[1m│ \u001b[22m\u001b[39m   config/default_configs/default_config.yml\n",
      "\u001b[36m\u001b[1m└ \u001b[22m\u001b[39m   config/model_configs/prognostic_edmfx_gcmdriven_column.yml\n",
      "\u001b[36m\u001b[1m[ \u001b[22m\u001b[39m\u001b[36m\u001b[1mInfo: \u001b[22m\u001b[39mUsing CAM_SE hyperdiffusion. vorticity_hyperdiffusion_coefficient, scalar_hyperdiffusion_coefficient and divergence_damping_factor in the config will be ignored.\n",
      "\u001b[36m\u001b[1m┌ \u001b[22m\u001b[39m\u001b[36m\u001b[1mInfo: \u001b[22m\u001b[39mnumerics \n",
      "\u001b[36m\u001b[1m│ \u001b[22m\u001b[39m           `energy_upwinding`::`Val{:vanleer_limiter}`\n",
      "\u001b[36m\u001b[1m│ \u001b[22m\u001b[39m           `tracer_upwinding`::`Val{:vanleer_limiter}`\n",
      "\u001b[36m\u001b[1m│ \u001b[22m\u001b[39m            `edmfx_upwinding`::`Val{:first_order}`\n",
      "\u001b[36m\u001b[1m│ \u001b[22m\u001b[39m    `edmfx_sgsflux_upwinding`::`Val{:none}`\n",
      "\u001b[36m\u001b[1m│ \u001b[22m\u001b[39m    `test_dycore_consistency`::`Nothing`\n",
      "\u001b[36m\u001b[1m└ \u001b[22m\u001b[39m                    `limiter`::`Nothing`\n",
      "\u001b[36m\u001b[1m┌ \u001b[22m\u001b[39m\u001b[36m\u001b[1mInfo: \u001b[22m\u001b[39mAtmosModel: \n",
      "\u001b[36m\u001b[1m│ \u001b[22m\u001b[39m\n",
      "\u001b[36m\u001b[1m│ \u001b[22m\u001b[39m                      `moisture_model`::`ClimaAtmos.EquilMoistModel`\n",
      "\u001b[36m\u001b[1m│ \u001b[22m\u001b[39m                        `precip_model`::`ClimaAtmos.NoPrecipitation`\n",
      "\u001b[36m\u001b[1m│ \u001b[22m\u001b[39m                         `cloud_model`::`ClimaAtmos.SGSQuadratureCloud{ClimaAtmos.SGSQuadrature{3, StaticArraysCore.SVector{3, Float32}, StaticArraysCore.SVector{3, Float32}}}`\n",
      "\u001b[36m\u001b[1m│ \u001b[22m\u001b[39m    `call_cloud_diagnostics_per_stage`::`ClimaAtmos.CallCloudDiagnosticsPerStage`\n",
      "\u001b[36m\u001b[1m│ \u001b[22m\u001b[39m                        `forcing_type`::`Nothing`\n",
      "\u001b[36m\u001b[1m│ \u001b[22m\u001b[39m                          `subsidence`::`Nothing`\n",
      "\u001b[36m\u001b[1m│ \u001b[22m\u001b[39m                               `ozone`::`ClimaAtmos.IdealizedOzone`\n",
      "\u001b[36m\u001b[1m│ \u001b[22m\u001b[39m                                 `co2`::`ClimaAtmos.FixedCO2{Float64}`\n",
      "\u001b[36m\u001b[1m│ \u001b[22m\u001b[39m                      `radiation_mode`::`ClimaAtmos.RRTMGPInterface.AllSkyRadiationWithClearSkyDiagnostics{ClimaAtmos.InteractiveCloudInRadiation}`\n",
      "\u001b[36m\u001b[1m│ \u001b[22m\u001b[39m                              `ls_adv`::`Nothing`\n",
      "\u001b[36m\u001b[1m│ \u001b[22m\u001b[39m                    `external_forcing`::`ClimaAtmos.GCMForcing{Float64}`\n",
      "\u001b[36m\u001b[1m│ \u001b[22m\u001b[39m                       `edmf_coriolis`::`Nothing`\n",
      "\u001b[36m\u001b[1m│ \u001b[22m\u001b[39m                      `tendency_model`::`ClimaAtmos.UseAllTendency`\n",
      "\u001b[36m\u001b[1m│ \u001b[22m\u001b[39m                         `edmfx_model`::`ClimaAtmos.EDMFXModel{ClimaAtmos.GeneralizedEntrainment, ClimaAtmos.GeneralizedDetrainment, Val{true}, Val{true}, Val{true}, Val{true}}`\n",
      "\u001b[36m\u001b[1m│ \u001b[22m\u001b[39m                      `turbconv_model`::`ClimaAtmos.PrognosticEDMFX{1, true, Float32}`\n",
      "\u001b[36m\u001b[1m│ \u001b[22m\u001b[39m         `non_orographic_gravity_wave`::`Nothing`\n",
      "\u001b[36m\u001b[1m│ \u001b[22m\u001b[39m             `orographic_gravity_wave`::`Nothing`\n",
      "\u001b[36m\u001b[1m│ \u001b[22m\u001b[39m                           `hyperdiff`::`ClimaAtmos.ClimaHyperdiffusion{Float32}`\n",
      "\u001b[36m\u001b[1m│ \u001b[22m\u001b[39m                           `vert_diff`::`Nothing`\n",
      "\u001b[36m\u001b[1m│ \u001b[22m\u001b[39m                           `diff_mode`::`ClimaAtmos.Implicit`\n",
      "\u001b[36m\u001b[1m│ \u001b[22m\u001b[39m                        `sgs_adv_mode`::`ClimaAtmos.Explicit`\n",
      "\u001b[36m\u001b[1m│ \u001b[22m\u001b[39m                      `viscous_sponge`::`Nothing`\n",
      "\u001b[36m\u001b[1m│ \u001b[22m\u001b[39m                   `smagorinsky_lilly`::`Nothing`\n",
      "\u001b[36m\u001b[1m│ \u001b[22m\u001b[39m                     `rayleigh_sponge`::`ClimaAtmos.RayleighSponge{Float32}`\n",
      "\u001b[36m\u001b[1m│ \u001b[22m\u001b[39m                     `sfc_temperature`::`ClimaAtmos.ZonallySymmetricSST`\n",
      "\u001b[36m\u001b[1m│ \u001b[22m\u001b[39m                          `insolation`::`ClimaAtmos.GCMDrivenInsolation`\n",
      "\u001b[36m\u001b[1m│ \u001b[22m\u001b[39m                       `surface_model`::`ClimaAtmos.PrescribedSurfaceTemperature`\n",
      "\u001b[36m\u001b[1m│ \u001b[22m\u001b[39m                      `surface_albedo`::`ClimaAtmos.ConstantAlbedo{Float32}`\n",
      "\u001b[36m\u001b[1m└ \u001b[22m\u001b[39m                            `numerics`::`ClimaAtmos.AtmosNumerics{Val{:vanleer_limiter}, Val{:vanleer_limiter}, Val{:first_order}, Val{:none}, Nothing, Nothing}`\n",
      "\u001b[36m\u001b[1m┌ \u001b[22m\u001b[39m\u001b[36m\u001b[1mInfo: \u001b[22m\u001b[39mTime info:\n",
      "\u001b[36m\u001b[1m│ \u001b[22m\u001b[39m  dt = \"10secs\"\n",
      "\u001b[36m\u001b[1m│ \u001b[22m\u001b[39m  t_end = \"6hours\"\n",
      "\u001b[36m\u001b[1m└ \u001b[22m\u001b[39m  floor_n_steps = 2160\n",
      "\u001b[36m\u001b[1m┌ \u001b[22m\u001b[39m\u001b[36m\u001b[1mInfo: \u001b[22m\u001b[39mSimulation info\n",
      "\u001b[36m\u001b[1m│ \u001b[22m\u001b[39m  job_id = \"prognostic_edmfx_gcmdriven_column\"\n",
      "\u001b[36m\u001b[1m└ \u001b[22m\u001b[39m  output_dir = \"output/prognostic_edmfx_gcmdriven_column/output_0014\"\n",
      "\u001b[33m\u001b[1m┌ \u001b[22m\u001b[39m\u001b[33m\u001b[1mWarning: \u001b[22m\u001b[39mperturb_initstate flag is ignored for single column configuration\n",
      "\u001b[33m\u001b[1m└ \u001b[22m\u001b[39m\u001b[90m@ ClimaAtmos ~/ClimaAtmos.jl/src/solver/type_getters.jl:175\u001b[39m\n",
      "\u001b[36m\u001b[1m┌ \u001b[22m\u001b[39m\u001b[36m\u001b[1mInfo: \u001b[22m\u001b[39mz heights\n",
      "\u001b[36m\u001b[1m│ \u001b[22m\u001b[39m  z_mesh.faces =\n",
      "\u001b[36m\u001b[1m│ \u001b[22m\u001b[39m   61-element Vector{ClimaCore.Geometry.ZPoint{Float32}}:\n",
      "\u001b[36m\u001b[1m│ \u001b[22m\u001b[39m    ZPoint(0.0)\n",
      "\u001b[36m\u001b[1m│ \u001b[22m\u001b[39m    ZPoint(30.0)\n",
      "\u001b[36m\u001b[1m│ \u001b[22m\u001b[39m    ZPoint(62.88452)\n",
      "\u001b[36m\u001b[1m│ \u001b[22m\u001b[39m    ZPoint(98.928185)\n",
      "\u001b[36m\u001b[1m│ \u001b[22m\u001b[39m    ZPoint(138.43121)\n",
      "\u001b[36m\u001b[1m│ \u001b[22m\u001b[39m    ⋮\n",
      "\u001b[36m\u001b[1m│ \u001b[22m\u001b[39m    ZPoint(32619.615)\n",
      "\u001b[36m\u001b[1m│ \u001b[22m\u001b[39m    ZPoint(34437.305)\n",
      "\u001b[36m\u001b[1m│ \u001b[22m\u001b[39m    ZPoint(36278.35)\n",
      "\u001b[36m\u001b[1m│ \u001b[22m\u001b[39m    ZPoint(38135.195)\n",
      "\u001b[36m\u001b[1m└ \u001b[22m\u001b[39m    ZPoint(40000.0)\n",
      "\u001b[36m\u001b[1m[ \u001b[22m\u001b[39m\u001b[36m\u001b[1mInfo: \u001b[22m\u001b[39mNo surface orography warp applied\n",
      "\u001b[36m\u001b[1m┌ \u001b[22m\u001b[39m\u001b[36m\u001b[1mInfo: \u001b[22m\u001b[39mResolution stats: \n",
      "\u001b[36m\u001b[1m│ \u001b[22m\u001b[39m  Nq = 1\n",
      "\u001b[36m\u001b[1m│ \u001b[22m\u001b[39m  h_elem = 6\n",
      "\u001b[36m\u001b[1m│ \u001b[22m\u001b[39m  z_elem = 60\n",
      "\u001b[36m\u001b[1m│ \u001b[22m\u001b[39m  ncols = 1\n",
      "\u001b[36m\u001b[1m└ \u001b[22m\u001b[39m  ndofs_total = 60\n",
      "\u001b[36m\u001b[1m[ \u001b[22m\u001b[39m\u001b[36m\u001b[1mInfo: \u001b[22m\u001b[39mAllocating Y: 5.077 s (6822323 allocations: 477.6 MiB)\n",
      "\u001b[36m\u001b[1m[ \u001b[22m\u001b[39m\u001b[36m\u001b[1mInfo: \u001b[22m\u001b[39mAllocating cache (p): 44.388 s (198137777 allocations: 11.32 GiB)\n",
      "\u001b[36m\u001b[1m[ \u001b[22m\u001b[39m\u001b[36m\u001b[1mInfo: \u001b[22m\u001b[39mUsing ODE config: `ClimaTimeSteppers.ARS343`\n",
      "\u001b[36m\u001b[1m[ \u001b[22m\u001b[39m\u001b[36m\u001b[1mInfo: \u001b[22m\u001b[39mode_configuration: 755.78 ms (1294091 allocations: 79.34 MiB)\n",
      "\u001b[36m\u001b[1m[ \u001b[22m\u001b[39m\u001b[36m\u001b[1mInfo: \u001b[22m\u001b[39mProgress logging enabled\n",
      "\u001b[36m\u001b[1m[ \u001b[22m\u001b[39m\u001b[36m\u001b[1mInfo: \u001b[22m\u001b[39mChecking NaNs in the state every 1024 steps\n",
      "\u001b[36m\u001b[1m[ \u001b[22m\u001b[39m\u001b[36m\u001b[1mInfo: \u001b[22m\u001b[39mget_callbacks: 282.907 ms (233321 allocations: 16.35 MiB)\n",
      "\u001b[33m\u001b[1m┌ \u001b[22m\u001b[39m\u001b[33m\u001b[1mWarning: \u001b[22m\u001b[39mDisabling vertical interpolation, the provided number of points is ignored (using 60)\n",
      "\u001b[33m\u001b[1m└ \u001b[22m\u001b[39m\u001b[90m@ ClimaDiagnostics.Writers ~/.julia/packages/ClimaDiagnostics/SIJ5I/src/netcdf_writer.jl:140\u001b[39m\n",
      "\u001b[36m\u001b[1m[ \u001b[22m\u001b[39m\u001b[36m\u001b[1mInfo: \u001b[22m\u001b[39mSaving accumulated diagnostics to disk with frequency: 10 minutes\n",
      "\u001b[36m\u001b[1m[ \u001b[22m\u001b[39m\u001b[36m\u001b[1mInfo: \u001b[22m\u001b[39mDictWriter: String[]\n",
      "\u001b[36m\u001b[1m[ \u001b[22m\u001b[39m\u001b[36m\u001b[1mInfo: \u001b[22m\u001b[39mHDF5Writer: String[]\n",
      "\u001b[36m\u001b[1m[ \u001b[22m\u001b[39m\u001b[36m\u001b[1mInfo: \u001b[22m\u001b[39mNetCDFWriter: [\"ts_10m_inst\", \"ta_10m_inst\", \"thetaa_10m_inst\", \"ha_10m_inst\", \"pfull_10m_inst\", \"rhoa_10m_inst\", \"ua_10m_inst\", \"va_10m_inst\", \"wa_10m_inst\", \"hur_10m_inst\", \"hus_10m_inst\", \"cl_10m_inst\", \"clw_10m_inst\", \"cli_10m_inst\", \"hussfc_10m_inst\", \"evspsbl_10m_inst\", \"pr_10m_inst\", \"arup_10m_inst\", \"waup_10m_inst\", \"taup_10m_inst\", \"thetaaup_10m_inst\", \"haup_10m_inst\", \"husup_10m_inst\", \"hurup_10m_inst\", \"clwup_10m_inst\", \"cliup_10m_inst\", \"waen_10m_inst\", \"taen_10m_inst\", \"thetaaen_10m_inst\", \"haen_10m_inst\", \"husen_10m_inst\", \"huren_10m_inst\", \"clwen_10m_inst\", \"clien_10m_inst\", \"tke_10m_inst\", \"entr_10m_inst\", \"detr_10m_inst\", \"lmix_10m_inst\", \"bgrad_10m_inst\", \"strain_10m_inst\", \"edt_10m_inst\", \"evu_10m_inst\", \"rlut_10m_inst\", \"rlutcs_10m_inst\", \"rsut_10m_inst\", \"rsutcs_10m_inst\", \"clwvi_10m_inst\", \"lwp_10m_inst\", \"clivi_10m_inst\", \"dsevi_10m_inst\", \"clvi_10m_inst\", \"prw_10m_inst\", \"hurvi_10m_inst\", \"husv_10m_inst\", \"tke_10m_max\"]\n",
      "\u001b[36m\u001b[1m[ \u001b[22m\u001b[39m\u001b[36m\u001b[1mInfo: \u001b[22m\u001b[39minitializing diagnostics: 5.325 s (8542484 allocations: 580.48 MiB)\n",
      "\u001b[36m\u001b[1m[ \u001b[22m\u001b[39m\u001b[36m\u001b[1mInfo: \u001b[22m\u001b[39mPrepared SciMLBase.CallbackSet callbacks: 9.004 ms (408 allocations: 29.3 KiB)\n",
      "\u001b[36m\u001b[1m[ \u001b[22m\u001b[39m\u001b[36m\u001b[1mInfo: \u001b[22m\u001b[39mn_steps_per_cycle_per_cb (non diagnostics): [1024, 1, 180]\n",
      "\u001b[36m\u001b[1m[ \u001b[22m\u001b[39m\u001b[36m\u001b[1mInfo: \u001b[22m\u001b[39mn_steps_per_cycle (non diagnostics): 46080\n",
      "\u001b[36m\u001b[1m[ \u001b[22m\u001b[39m\u001b[36m\u001b[1mInfo: \u001b[22m\u001b[39mDefine ode function: 3.92 s (11689579 allocations: 747.69 MiB)\n",
      "\u001b[36m\u001b[1m[ \u001b[22m\u001b[39m\u001b[36m\u001b[1mInfo: \u001b[22m\u001b[39mdt_save_to_sol: 86400.0, length(saveat): 2\n",
      "\u001b[36m\u001b[1m[ \u001b[22m\u001b[39m\u001b[36m\u001b[1mInfo: \u001b[22m\u001b[39minit integrator: 20.857 s (31404659 allocations: 2.01 GiB)\n",
      "\u001b[36m\u001b[1m[ \u001b[22m\u001b[39m\u001b[36m\u001b[1mInfo: \u001b[22m\u001b[39mAdded diagnostics: 28.331 s (32718523 allocations: 2.2 GiB)\n"
     ]
    },
    {
     "data": {
      "text/plain": [
       "Simulation prognostic_edmfx_gcmdriven_column\n",
       "├── Running on: CPUSingleThreaded\n",
       "├── Output folder: output/prognostic_edmfx_gcmdriven_column/output_0014\n",
       "├── Start date: 2010-01-01T00:00:00\n",
       "├── Current time: 0.0 seconds\n",
       "└── Stop time: 21600.0 seconds"
      ]
     },
     "execution_count": 12,
     "metadata": {},
     "output_type": "execute_result"
    }
   ],
   "source": [
    "# get simulation object so as to get target_space\n",
    "config = CA.AtmosConfig(\"config/model_configs/prognostic_edmfx_gcmdriven_column.yml\")\n",
    "simulation = CA.get_simulation(config)"
   ]
  },
  {
   "cell_type": "code",
   "execution_count": 7,
   "metadata": {},
   "outputs": [
    {
     "data": {
      "text/plain": [
       "ClimaCore.Fields.Field{ClimaCore.DataLayouts.VIJFH{Float32, 60, 1, SubArray{Float32, 5, Array{Float32, 5}, Tuple{Base.Slice{Base.OneTo{Int64}}, Base.Slice{Base.OneTo{Int64}}, Base.Slice{Base.OneTo{Int64}}, UnitRange{Int64}, Base.Slice{Base.OneTo{Int64}}}, false}}, ClimaCore.Spaces.ExtrudedFiniteDifferenceSpace{ClimaCore.Grids.ExtrudedFiniteDifferenceGrid{ClimaCore.Grids.SpectralElementGrid2D{ClimaCore.Topologies.Topology2D{ClimaComms.SingletonCommsContext{ClimaComms.CPUSingleThreaded}, ClimaCore.Meshes.RectilinearMesh{ClimaCore.Meshes.IntervalMesh{ClimaCore.Domains.IntervalDomain{ClimaCore.Geometry.XPoint{Float32}, Nothing}, LinRange{ClimaCore.Geometry.XPoint{Float32}, Int64}}, ClimaCore.Meshes.IntervalMesh{ClimaCore.Domains.IntervalDomain{ClimaCore.Geometry.YPoint{Float32}, Nothing}, LinRange{ClimaCore.Geometry.YPoint{Float32}, Int64}}}, Vector{CartesianIndex{2}}, Matrix{Int64}, Vector{Tuple{Int64, Int64, Int64, Int64, Bool}}, Vector{Tuple{Int64, Int64, Int64, Int64, Bool}}, Vector{Tuple{Int64, Int64}}, Vector{Int64}, Vector{Tuple{Bool, Int64, Int64}}, Vector{Int64}, Vector{Int64}, @NamedTuple{}, Vector{Tuple{Int64, Int64}}}, ClimaCore.Quadratures.GL{1}, ClimaCore.Geometry.CartesianGlobalGeometry, ClimaCore.DataLayouts.IJFH{ClimaCore.Geometry.LocalGeometry{(1, 2), ClimaCore.Geometry.XYPoint{Float32}, Float32, StaticArraysCore.SMatrix{2, 2, Float32, 4}}, 1, Array{Float32, 4}}, ClimaCore.DataLayouts.IJFH{Float32, 1, Array{Float32, 4}}, Nothing, Nothing}, ClimaCore.Grids.FiniteDifferenceGrid{ClimaCore.Topologies.IntervalTopology{ClimaComms.SingletonCommsContext{ClimaComms.CPUSingleThreaded}, ClimaCore.Meshes.IntervalMesh{ClimaCore.Domains.IntervalDomain{ClimaCore.Geometry.ZPoint{Float32}, Tuple{Symbol, Symbol}}, Vector{ClimaCore.Geometry.ZPoint{Float32}}}, @NamedTuple{bottom::Int64, top::Int64}}, ClimaCore.Geometry.CartesianGlobalGeometry, ClimaCore.DataLayouts.VF{ClimaCore.Geometry.LocalGeometry{(3,), ClimaCore.Geometry.ZPoint{Float32}, Float32, StaticArraysCore.SMatrix{1, 1, Float32, 1}}, 60, Matrix{Float32}}, ClimaCore.DataLayouts.VF{ClimaCore.Geometry.LocalGeometry{(3,), ClimaCore.Geometry.ZPoint{Float32}, Float32, StaticArraysCore.SMatrix{1, 1, Float32, 1}}, 61, Matrix{Float32}}}, ClimaCore.Grids.Flat, ClimaCore.Geometry.CartesianGlobalGeometry, ClimaCore.DataLayouts.VIJFH{ClimaCore.Geometry.LocalGeometry{(1, 2, 3), ClimaCore.Geometry.XYZPoint{Float32}, Float32, StaticArraysCore.SMatrix{3, 3, Float32, 9}}, 60, 1, Array{Float32, 5}}, ClimaCore.DataLayouts.VIJFH{ClimaCore.Geometry.LocalGeometry{(1, 2, 3), ClimaCore.Geometry.XYZPoint{Float32}, Float32, StaticArraysCore.SMatrix{3, 3, Float32, 9}}, 61, 1, Array{Float32, 5}}}, ClimaCore.Grids.CellCenter}}"
      ]
     },
     "execution_count": 7,
     "metadata": {},
     "output_type": "execute_result"
    }
   ],
   "source": [
    "typeof(simulation.integrator.u.c.ρ)"
   ]
  },
  {
   "cell_type": "code",
   "execution_count": 5,
   "metadata": {},
   "outputs": [
    {
     "data": {
      "text/plain": [
       "ClimaCore.Geometry.XYZPoint{Float32}-valued Field:\n",
       "  x: Float32[0.5, 0.5, 0.5, 0.5, 0.5, 0.5, 0.5, 0.5, 0.5, 0.5  …  0.5, 0.5, 0.5, 0.5, 0.5, 0.5, 0.5, 0.5, 0.5, 0.5]\n",
       "  y: Float32[0.5, 0.5, 0.5, 0.5, 0.5, 0.5, 0.5, 0.5, 0.5, 0.5  …  0.5, 0.5, 0.5, 0.5, 0.5, 0.5, 0.5, 0.5, 0.5, 0.5]\n",
       "  z: Float32[15.0, 46.4423, 80.9064, 118.68, 160.076, 205.44, 255.145, 309.601, 369.254, 434.591  …  23340.1, 24915.8, 26546.9, 28229.2, 29957.5, 31726.0, 33528.5, 35357.8, 37206.8, 39067.6]"
      ]
     },
     "execution_count": 5,
     "metadata": {},
     "output_type": "execute_result"
    }
   ],
   "source": [
    "Fields.coordinate_field(simulation.integrator.u.c.ρ)"
   ]
  },
  {
   "cell_type": "code",
   "execution_count": 6,
   "metadata": {},
   "outputs": [
    {
     "data": {
      "text/plain": [
       "ClimaUtilitiesNCDatasetsExt.NCFileReaderExt.NCFileReader{Vector{String}, String, Tuple{Vector{Float64}, Vector{Float64}, Vector{Float64}}, NCDataset{Nothing, Missing}, Vector{DateTime}, typeof(identity), ClimaUtilities.DataStructures.LRUCache{DateTime, Array}}([\"/home/jschmitt/ClimaAtmos.jl/examples/tvforcing/sim_forcing_site23_ng_xyz.nc\"], \"ta\", ([0.0, 1.0], [0.0, 1.0], [136.7820652123418, 357.10261550680383, 581.6044427454976, 810.8070676844417, 1045.110618184304, 1284.7746406993285, 1530.7430071090305, 1784.936508505352, 2046.6933255287963, 2315.3707552879714  …  18668.63771024466, 20691.374288566094, 23863.194656812768, 26472.848284063883, 31088.91564729868, 33521.62552030241, 35854.983382178034, 39510.746103041114, 42539.11490188583, 47856.81012147466]), (\"x\", \"y\", \"z\"), [DateTime(\"2007-07-01T00:00:00\"), DateTime(\"2007-07-01T01:00:00\"), DateTime(\"2007-07-01T02:00:00\"), DateTime(\"2007-07-01T03:00:00\"), DateTime(\"2007-07-01T04:00:00\"), DateTime(\"2007-07-01T05:00:00\"), DateTime(\"2007-07-01T06:00:00\"), DateTime(\"2007-07-01T07:00:00\"), DateTime(\"2007-07-01T08:00:00\"), DateTime(\"2007-07-01T09:00:00\")  …  DateTime(\"2007-07-05T14:00:00\"), DateTime(\"2007-07-05T15:00:00\"), DateTime(\"2007-07-05T16:00:00\"), DateTime(\"2007-07-05T17:00:00\"), DateTime(\"2007-07-05T18:00:00\"), DateTime(\"2007-07-05T19:00:00\"), DateTime(\"2007-07-05T20:00:00\"), DateTime(\"2007-07-05T21:00:00\"), DateTime(\"2007-07-05T22:00:00\"), DateTime(\"2007-07-05T23:00:00\")], \u001b[31mDataset: /home/jschmitt/ClimaAtmos.jl/examples/tvforcing/sim_forcing_site23_ng_xyz.nc\u001b[39m\n",
       "Group: /\n",
       "\n",
       "\u001b[31mDimensions\u001b[39m\n",
       "   time = 120\n",
       "   z = 37\n",
       "   x = 2\n",
       "   y = 2\n",
       "\n",
       "\u001b[31mVariables\u001b[39m\n",
       "\u001b[32m  x\u001b[39m   (2)\n",
       "    Datatype:    \u001b[0m\u001b[1mFloat64\u001b[22m (Float64)\n",
       "    Dimensions:  x\n",
       "\n",
       "\u001b[32m  y\u001b[39m   (2)\n",
       "    Datatype:    \u001b[0m\u001b[1mFloat64\u001b[22m (Float64)\n",
       "    Dimensions:  y\n",
       "\n",
       "\u001b[32m  z\u001b[39m   (37)\n",
       "    Datatype:    \u001b[0m\u001b[1mFloat64\u001b[22m (Float64)\n",
       "    Dimensions:  z\n",
       "\n",
       "\u001b[32m  time\u001b[39m   (120)\n",
       "    Datatype:    \u001b[0m\u001b[1mDateTime\u001b[22m (Float64)\n",
       "    Dimensions:  time\n",
       "    Attributes:\n",
       "     units                = \u001b[36mhours since 1970-01-01 00:00:00\u001b[39m\n",
       "     calendar             = \u001b[36mproleptic_gregorian\u001b[39m\n",
       "\n",
       "\u001b[32m  pressure_level\u001b[39m   (2 × 2 × 37)\n",
       "    Datatype:    \u001b[0m\u001b[1mFloat64\u001b[22m (Float64)\n",
       "    Dimensions:  x × y × z\n",
       "\n",
       "\u001b[32m  hus\u001b[39m   (2 × 2 × 37 × 120)\n",
       "    Datatype:    \u001b[0m\u001b[1mFloat64\u001b[22m (Float64)\n",
       "    Dimensions:  x × y × z × time\n",
       "\n",
       "\u001b[32m  tntva\u001b[39m   (2 × 2 × 37 × 120)\n",
       "    Datatype:    \u001b[0m\u001b[1mFloat64\u001b[22m (Float64)\n",
       "    Dimensions:  x × y × z × time\n",
       "\n",
       "\u001b[32m  zg\u001b[39m   (2 × 2 × 37 × 120)\n",
       "    Datatype:    \u001b[0m\u001b[1mFloat64\u001b[22m (Float64)\n",
       "    Dimensions:  x × y × z × time\n",
       "\n",
       "\u001b[32m  wa\u001b[39m   (2 × 2 × 37 × 120)\n",
       "    Datatype:    \u001b[0m\u001b[1mFloat64\u001b[22m (Float64)\n",
       "    Dimensions:  x × y × z × time\n",
       "\n",
       "\u001b[32m  tntha\u001b[39m   (2 × 2 × 37 × 120)\n",
       "    Datatype:    \u001b[0m\u001b[1mFloat64\u001b[22m (Float64)\n",
       "    Dimensions:  x × y × z × time\n",
       "\n",
       "\u001b[32m  tnhusha\u001b[39m   (2 × 2 × 37 × 120)\n",
       "    Datatype:    \u001b[0m\u001b[1mFloat64\u001b[22m (Float64)\n",
       "    Dimensions:  x × y × z × time\n",
       "\n",
       "\u001b[32m  ua\u001b[39m   (2 × 2 × 37 × 120)\n",
       "    Datatype:    \u001b[0m\u001b[1mFloat64\u001b[22m (Float64)\n",
       "    Dimensions:  x × y × z × time\n",
       "\n",
       "\u001b[32m  ta\u001b[39m   (2 × 2 × 37 × 120)\n",
       "    Datatype:    \u001b[0m\u001b[1mFloat64\u001b[22m (Float64)\n",
       "    Dimensions:  x × y × z × time\n",
       "\n",
       "\u001b[32m  tnhusva\u001b[39m   (2 × 2 × 37 × 120)\n",
       "    Datatype:    \u001b[0m\u001b[1mFloat64\u001b[22m (Float64)\n",
       "    Dimensions:  x × y × z × time\n",
       "\n",
       "\u001b[32m  rho\u001b[39m   (2 × 2 × 37 × 120)\n",
       "    Datatype:    \u001b[0m\u001b[1mFloat64\u001b[22m (Float64)\n",
       "    Dimensions:  x × y × z × time\n",
       "\n",
       "\u001b[32m  va\u001b[39m   (2 × 2 × 37 × 120)\n",
       "    Datatype:    \u001b[0m\u001b[1mFloat64\u001b[22m (Float64)\n",
       "    Dimensions:  x × y × z × time\n",
       "\n",
       "\u001b[32m  wap\u001b[39m   (2 × 2 × 37 × 120)\n",
       "    Datatype:    \u001b[0m\u001b[1mFloat64\u001b[22m (Float64)\n",
       "    Dimensions:  x × y × z × time\n",
       "\n",
       "\u001b[32m  coszen\u001b[39m   (2 × 2 × 120)\n",
       "    Datatype:    \u001b[0m\u001b[1mFloat64\u001b[22m (Float64)\n",
       "    Dimensions:  x × y × time\n",
       "\n",
       "\u001b[32m  rsdt\u001b[39m   (2 × 2 × 120)\n",
       "    Datatype:    \u001b[0m\u001b[1mFloat64\u001b[22m (Float64)\n",
       "    Dimensions:  x × y × time\n",
       "\n",
       "\u001b[32m  hfls\u001b[39m   (2 × 2 × 120)\n",
       "    Datatype:    \u001b[0m\u001b[1mFloat64\u001b[22m (Float64)\n",
       "    Dimensions:  x × y × time\n",
       "\n",
       "\u001b[32m  hfss\u001b[39m   (2 × 2 × 120)\n",
       "    Datatype:    \u001b[0m\u001b[1mFloat64\u001b[22m (Float64)\n",
       "    Dimensions:  x × y × time\n",
       "\n",
       "\u001b[32m  ts\u001b[39m   (2 × 2 × 120)\n",
       "    Datatype:    \u001b[0m\u001b[1mFloat64\u001b[22m (Float64)\n",
       "    Dimensions:  x × y × time\n",
       "\n",
       ", identity, ClimaUtilities.DataStructures.LRUCache{DateTime, Array}(), 4)"
      ]
     },
     "execution_count": 6,
     "metadata": {},
     "output_type": "execute_result"
    }
   ],
   "source": [
    "using NCDatasets\n",
    "ds = NCDataset(\"/home/jschmitt/ClimaAtmos.jl/examples/tvforcing/sim_forcing_site23_ng_xyz.nc\")\n",
    "\n",
    "# ds\n",
    "\n",
    "using ClimaUtilities.FileReaders\n",
    "# test file read\n",
    "test = FileReaders.NCFileReader(\"/home/jschmitt/ClimaAtmos.jl/examples/tvforcing/sim_forcing_site23_ng_xyz.nc\", \"ta\")"
   ]
  },
  {
   "cell_type": "code",
   "execution_count": 11,
   "metadata": {},
   "outputs": [
    {
     "data": {
      "text/plain": [
       "2-element Vector{Float64}:\n",
       " 0.0\n",
       " 1.0"
      ]
     },
     "execution_count": 11,
     "metadata": {},
     "output_type": "execute_result"
    }
   ],
   "source": [
    "ds[\"x\"][:]"
   ]
  },
  {
   "cell_type": "code",
   "execution_count": 12,
   "metadata": {},
   "outputs": [],
   "source": [
    "ClimaUtilities.DataHandling.DataHandler(\n",
    "    \"/home/jschmitt/ClimaAtmos.jl/examples/tvforcing/sim_forcing_site23_ng_xyz.nc\",\n",
    "    \"ta\",\n",
    "    axes(similar(simulation.integrator.u.c.ρ)),\n",
    ");"
   ]
  },
  {
   "cell_type": "code",
   "execution_count": 104,
   "metadata": {},
   "outputs": [
    {
     "data": {
      "text/plain": [
       "true"
      ]
     },
     "execution_count": 104,
     "metadata": {},
     "output_type": "execute_result"
    }
   ],
   "source": [
    "dim_names = NCDatasets.dimnames(ds[\"ta\"])\n",
    "is_time = x -> x == \"time\" || x == \"date\" || x == \"t\"\n",
    "dim_names = filter(!is_time, dim_names)\n",
    "\n",
    "\n",
    "all(d in keys(ds) for d in dim_names)"
   ]
  },
  {
   "cell_type": "code",
   "execution_count": 13,
   "metadata": {},
   "outputs": [],
   "source": [
    "start_time = DateTime(2007, 7, 1)\n",
    "tv = TimeVaryingInputs.TimeVaryingInput([\"/home/jschmitt/ClimaAtmos.jl/examples/tvforcing/sim_forcing_site23_ng_xyz.nc\"],\n",
    "                                [\"ta\"],\n",
    "                                axes(similar(simulation.integrator.u.c.ρ));\n",
    "                                reference_date = start_time,\n",
    "                                regridder_type = :InterpolationsRegridder,\n",
    ");"
   ]
  },
  {
   "cell_type": "code",
   "execution_count": 26,
   "metadata": {},
   "outputs": [],
   "source": [
    "import ClimaCore:Fields\n",
    "F1 = zero(simulation.integrator.u.c.ρ)\n",
    "next_t = start_time + Dates.Second(100000)\n",
    "next_t\n",
    "TimeVaryingInputs.evaluate!(F1, tv, next_t)"
   ]
  },
  {
   "cell_type": "code",
   "execution_count": 38,
   "metadata": {},
   "outputs": [
    {
     "ename": "LoadError",
     "evalue": "Struct type Float64 cannot be represented using base type Float32",
     "output_type": "error",
     "traceback": [
      "Struct type Float64 cannot be represented using base type Float32",
      "",
      "Stacktrace:",
      " [1] error(s::String)",
      "   @ Base ./error.jl:35",
      " [2] macro expansion",
      "   @ ~/.julia/packages/ClimaCore/NxD1F/src/DataLayouts/struct.jl:34 [inlined]",
      " [3] check_basetype(::Type{Float32}, ::Type{Float64})",
      "   @ ClimaCore.DataLayouts ~/.julia/packages/ClimaCore/NxD1F/src/DataLayouts/struct.jl:33",
      " [4] (ClimaCore.DataLayouts.IJFH{Float64, 1})(array::Array{Float32, 4})",
      "   @ ClimaCore.DataLayouts ~/.julia/packages/ClimaCore/NxD1F/src/DataLayouts/DataLayouts.jl:489",
      " [5] similar(bc::ClimaCore.DataLayouts.IJFH{Float32, 1, SubArray{Float32, 4, Array{Float32, 5}, Tuple{Int64, Base.Slice{Base.OneTo{Int64}}, Base.Slice{Base.OneTo{Int64}}, UnitRange{Int64}, Base.Slice{Base.OneTo{Int64}}}, false}}, ::Type{Float64}, ::NTuple{5, Int64})",
      "   @ ClimaCore.DataLayouts ~/.julia/packages/ClimaCore/NxD1F/src/DataLayouts/broadcast.jl:408",
      " [6] similar(bc::ClimaCore.DataLayouts.IJFH{Float32, 1, SubArray{Float32, 4, Array{Float32, 5}, Tuple{Int64, Base.Slice{Base.OneTo{Int64}}, Base.Slice{Base.OneTo{Int64}}, UnitRange{Int64}, Base.Slice{Base.OneTo{Int64}}}, false}}, ::Type{Float64})",
      "   @ ClimaCore.DataLayouts ~/.julia/packages/ClimaCore/NxD1F/src/DataLayouts/broadcast.jl:406",
      " [7] similar(field::ClimaCore.Fields.Field{ClimaCore.DataLayouts.IJFH{Float32, 1, SubArray{Float32, 4, Array{Float32, 5}, Tuple{Int64, Base.Slice{Base.OneTo{Int64}}, Base.Slice{Base.OneTo{Int64}}, UnitRange{Int64}, Base.Slice{Base.OneTo{Int64}}}, false}}, ClimaCore.Spaces.SpectralElementSpace2D{ClimaCore.Grids.LevelGrid{ClimaCore.Grids.ExtrudedFiniteDifferenceGrid{ClimaCore.Grids.SpectralElementGrid2D{ClimaCore.Topologies.Topology2D{ClimaComms.SingletonCommsContext{ClimaComms.CPUSingleThreaded}, ClimaCore.Meshes.RectilinearMesh{ClimaCore.Meshes.IntervalMesh{ClimaCore.Domains.IntervalDomain{ClimaCore.Geometry.XPoint{Float32}, Nothing}, LinRange{ClimaCore.Geometry.XPoint{Float32}, Int64}}, ClimaCore.Meshes.IntervalMesh{ClimaCore.Domains.IntervalDomain{ClimaCore.Geometry.YPoint{Float32}, Nothing}, LinRange{ClimaCore.Geometry.YPoint{Float32}, Int64}}}, Vector{CartesianIndex{2}}, Matrix{Int64}, Vector{Tuple{Int64, Int64, Int64, Int64, Bool}}, Vector{Tuple{Int64, Int64, Int64, Int64, Bool}}, Vector{Tuple{Int64, Int64}}, Vector{Int64}, Vector{Tuple{Bool, Int64, Int64}}, Vector{Int64}, Vector{Int64}, @NamedTuple{}, Vector{Tuple{Int64, Int64}}}, ClimaCore.Quadratures.GL{1}, ClimaCore.Geometry.CartesianGlobalGeometry, ClimaCore.DataLayouts.IJFH{ClimaCore.Geometry.LocalGeometry{(1, 2), ClimaCore.Geometry.XYPoint{Float32}, Float32, StaticArraysCore.SMatrix{2, 2, Float32, 4}}, 1, Array{Float32, 4}}, ClimaCore.DataLayouts.IJFH{Float32, 1, Array{Float32, 4}}, Nothing, Nothing}, FiniteDifferenceGrid{IntervalTopology{ClimaComms.SingletonCommsContext{ClimaComms.CPUSingleThreaded}, ClimaCore.Meshes.IntervalMesh{ClimaCore.Domains.IntervalDomain{ClimaCore.Geometry.ZPoint{Float32}, Tuple{Symbol, Symbol}}, Vector{ClimaCore.Geometry.ZPoint{Float32}}}, @NamedTuple{bottom::Int64, top::Int64}}, ClimaCore.Geometry.CartesianGlobalGeometry, ClimaCore.DataLayouts.VF{ClimaCore.Geometry.LocalGeometry{(3,), ClimaCore.Geometry.ZPoint{Float32}, Float32, StaticArraysCore.SMatrix{1, 1, Float32, 1}}, 60, Matrix{Float32}}, ClimaCore.DataLayouts.VF{ClimaCore.Geometry.LocalGeometry{(3,), ClimaCore.Geometry.ZPoint{Float32}, Float32, StaticArraysCore.SMatrix{1, 1, Float32, 1}}, 61, Matrix{Float32}}}, ClimaCore.Grids.Flat, ClimaCore.Geometry.CartesianGlobalGeometry, ClimaCore.DataLayouts.VIJFH{ClimaCore.Geometry.LocalGeometry{(1, 2, 3), ClimaCore.Geometry.XYZPoint{Float32}, Float32, StaticArraysCore.SMatrix{3, 3, Float32, 9}}, 60, 1, Array{Float32, 5}}, ClimaCore.DataLayouts.VIJFH{ClimaCore.Geometry.LocalGeometry{(1, 2, 3), ClimaCore.Geometry.XYZPoint{Float32}, Float32, StaticArraysCore.SMatrix{3, 3, Float32, 9}}, 61, 1, Array{Float32, 5}}}, Int64}}}, ::Type{Float64})",
      "   @ ClimaCore.Fields ~/.julia/packages/ClimaCore/NxD1F/src/Fields/Fields.jl:255",
      " [8] top-level scope",
      "   @ In[38]:1"
     ]
    }
   ],
   "source": [
    "axes(similar(Fields.level(simulation.integrator.u.c.ρ, 1), FT))"
   ]
  },
  {
   "cell_type": "code",
   "execution_count": 1,
   "metadata": {},
   "outputs": [
    {
     "name": "stderr",
     "output_type": "stream",
     "text": [
      "\u001b[33m\u001b[1m┌ \u001b[22m\u001b[39m\u001b[33m\u001b[1mWarning: \u001b[22m\u001b[39mCircular dependency detected. Precompilation will be skipped for:\n",
      "\u001b[33m\u001b[1m│ \u001b[22m\u001b[39m  GridLayoutBase [3955a311-db13-416c-9275-1d80ed98e5e9]\n",
      "\u001b[33m\u001b[1m│ \u001b[22m\u001b[39m  PreallocationTools [d236fae5-4411-538c-8e31-a6e3d9e00b46]\n",
      "\u001b[33m\u001b[1m│ \u001b[22m\u001b[39m  SpecialFunctionsExt [1285c0f1-ff9f-5867-b66e-0f359bcf09ba]\n",
      "\u001b[33m\u001b[1m│ \u001b[22m\u001b[39m  SciMLOperatorsStaticArraysCoreExt [a2df0a61-553a-563b-aed7-0ce21874eb58]\n",
      "\u001b[33m\u001b[1m│ \u001b[22m\u001b[39m  DiffEqBaseChainRulesCoreExt [b00db79b-61e3-50fb-b26f-2d35b2d9e4ed]\n",
      "\u001b[33m\u001b[1m│ \u001b[22m\u001b[39m  StaticArrayInterface [0d7ed370-da01-4f52-bd93-41d350b8b718]\n",
      "\u001b[33m\u001b[1m│ \u001b[22m\u001b[39m  RecursiveArrayToolsFastBroadcastExt [42296aa8-c874-5f57-b5c1-8d6f5ebd5400]\n",
      "\u001b[33m\u001b[1m│ \u001b[22m\u001b[39m  SciMLBase [0bca4576-84f4-4d90-8ffe-ffa030f20462]\n",
      "\u001b[33m\u001b[1m│ \u001b[22m\u001b[39m  GPUArrays [0c68f7d7-f131-5f86-a1c3-88cf8149b2d7]\n",
      "\u001b[33m\u001b[1m│ \u001b[22m\u001b[39m  DiffEqBaseCUDAExt [78064ecb-8a7e-51fd-a998-f0197ddca326]\n",
      "\u001b[33m\u001b[1m│ \u001b[22m\u001b[39m  KernelAbstractions [63c18a36-062a-441e-b654-da1e3ab1ce7c]\n",
      "\u001b[33m\u001b[1m│ \u001b[22m\u001b[39m  CreateParametersExt [de10cf08-5a56-53da-a061-ea54c6b27d66]\n",
      "\u001b[33m\u001b[1m│ \u001b[22m\u001b[39m  RecursiveArrayToolsStructArraysExt [07510ace-05c5-59ac-8535-cc0df8d4a157]\n",
      "\u001b[33m\u001b[1m│ \u001b[22m\u001b[39m  RecursiveArrayToolsSparseArraysExt [73e54eaf-3344-511d-b088-1ac5413eca63]\n",
      "\u001b[33m\u001b[1m│ \u001b[22m\u001b[39m  StrideArraysCore [7792a7ef-975c-4747-a70f-980b88e8d1da]\n",
      "\u001b[33m\u001b[1m│ \u001b[22m\u001b[39m  ArrayInterfaceCUDAExt [f78586ac-ba87-5ec7-b3a5-84bc1b258ee3]\n",
      "\u001b[33m\u001b[1m│ \u001b[22m\u001b[39m  ClimaUtilities [b3f4f4ca-9299-4f7f-bd9b-81e1242a7513]\n",
      "\u001b[33m\u001b[1m│ \u001b[22m\u001b[39m  ShaderAbstractions [65257c39-d410-5151-9873-9b3e5be5013e]\n",
      "\u001b[33m\u001b[1m│ \u001b[22m\u001b[39m  LinearOperatorsCUDAExt [54ba8605-469e-5680-a54a-585c2e64e6c1]\n",
      "\u001b[33m\u001b[1m│ \u001b[22m\u001b[39m  MultiBroadcastFusionCUDAExt [ae6c37a3-dd38-59b3-869b-c80ef4fad6ad]\n",
      "\u001b[33m\u001b[1m│ \u001b[22m\u001b[39m  ClimaCoreSpectra [c2caaa1d-32ae-4754-ba0d-80e7561362e9]\n",
      "\u001b[33m\u001b[1m│ \u001b[22m\u001b[39m  Polyester [f517fe37-dbe3-4b94-8317-1923a5111588]\n",
      "\u001b[33m\u001b[1m│ \u001b[22m\u001b[39m  ClimaCore [d414da3d-4745-48bb-8d80-42e94e092884]\n",
      "\u001b[33m\u001b[1m│ \u001b[22m\u001b[39m  CloseOpenIntervals [fb6a15b2-703c-40df-9091-08a04967cfa9]\n",
      "\u001b[33m\u001b[1m│ \u001b[22m\u001b[39m  CairoMakie [13f3f980-e62b-5c42-98c6-ff1f3baf88f0]\n",
      "\u001b[33m\u001b[1m│ \u001b[22m\u001b[39m  ClimaCorePlots [cf7c7e5a-b407-4c48-9047-11a94a308626]\n",
      "\u001b[33m\u001b[1m│ \u001b[22m\u001b[39m  FastBroadcast [7034ab61-46d4-4ed7-9d0f-46aef9175898]\n",
      "\u001b[33m\u001b[1m│ \u001b[22m\u001b[39m  MathTeXEngine [0a4f8689-d25c-4efe-a92b-7142dfc1aa53]\n",
      "\u001b[33m\u001b[1m│ \u001b[22m\u001b[39m  CUDA [052768ef-5323-5732-b1bb-66c8b64840ba]\n",
      "\u001b[33m\u001b[1m│ \u001b[22m\u001b[39m  ClimaCoreMakie [908f55d8-4145-4867-9c14-5dad1a479e4d]\n",
      "\u001b[33m\u001b[1m│ \u001b[22m\u001b[39m  RRTMGP [a01a1ee8-cea4-48fc-987c-fc7878d79da1]\n",
      "\u001b[33m\u001b[1m│ \u001b[22m\u001b[39m  SparseArraysExt [85068d23-b5fb-53f1-8204-05c2aba6942f]\n",
      "\u001b[33m\u001b[1m│ \u001b[22m\u001b[39m  ClimaAnalysisMakieExt [39307495-3600-5de6-b441-d1b26a74225a]\n",
      "\u001b[33m\u001b[1m│ \u001b[22m\u001b[39m  ClimaCoreTempestRemap [d934ef94-cdd4-4710-83d6-720549644b70]\n",
      "\u001b[33m\u001b[1m│ \u001b[22m\u001b[39m  LayoutPointers [10f19ff3-798f-405d-979b-55457f8fc047]\n",
      "\u001b[33m\u001b[1m│ \u001b[22m\u001b[39m  StructArraysGPUArraysCoreExt [cbbf52aa-d660-55d4-8a5a-33845bbaa85d]\n",
      "\u001b[33m\u001b[1m│ \u001b[22m\u001b[39m  AtomixCUDAExt [13011619-4c7c-5ef0-948f-5fc81565cd05]\n",
      "\u001b[33m\u001b[1m│ \u001b[22m\u001b[39m  CUDAExt [11b7e2e0-d079-575b-885e-0ab22ef3252c]\n",
      "\u001b[33m\u001b[1m│ \u001b[22m\u001b[39m  ClimaUtilitiesClimaCoreTempestRemapExt [9c911ae0-7c1b-5e7b-8f16-0e1f27cf44e9]\n",
      "\u001b[33m\u001b[1m│ \u001b[22m\u001b[39m  Makie [ee78f7c6-11fb-53f2-987a-cfe4a2b5a57a]\n",
      "\u001b[33m\u001b[1m│ \u001b[22m\u001b[39m  ClimaTimeSteppers [595c0a79-7f3d-439a-bc5a-b232dc3bde79]\n",
      "\u001b[33m\u001b[1m│ \u001b[22m\u001b[39m  ClimaUtilitiesClimaCoreInterpolationsExt [0a0a4c67-443a-5cd9-a529-60c88b1c335b]\n",
      "\u001b[33m\u001b[1m│ \u001b[22m\u001b[39m  LinearAlgebraExt [66d79d19-2cc4-5b0b-ac7a-b340256d1ecd]\n",
      "\u001b[33m\u001b[1m│ \u001b[22m\u001b[39m  ClimaUtilitiesClimaCoreExt [6f608162-b363-59cf-8e98-62d6099b30d4]\n",
      "\u001b[33m\u001b[1m│ \u001b[22m\u001b[39m  ClimaDiagnostics [1ecacbb8-0713-4841-9a07-eb5aa8a2d53f]\n",
      "\u001b[33m\u001b[1m│ \u001b[22m\u001b[39m  DiffEqBaseUnitfulExt [aeb06bb4-539b-5a1b-8332-034ed9f8ca66]\n",
      "\u001b[33m\u001b[1m│ \u001b[22m\u001b[39m  DiffEqBaseMPIExt [e696d53e-2826-5b30-b80b-453f013d5513]\n",
      "\u001b[33m\u001b[1m│ \u001b[22m\u001b[39m  EnzymeExt [6425d1ab-ad86-5f6e-82f1-f5118e0dc800]\n",
      "\u001b[33m\u001b[1m│ \u001b[22m\u001b[39m  SciMLBaseChainRulesCoreExt [4676cac9-c8e0-5d6e-a4e0-e3351593cdf5]\n",
      "\u001b[33m\u001b[1m│ \u001b[22m\u001b[39m  ClimaCoreCUDAExt [a7a7ed17-848c-5b83-b938-436e0216e0e4]\n",
      "\u001b[33m\u001b[1m│ \u001b[22m\u001b[39m  ClimaAtmos [b2c96348-7fb7-4fe0-8da9-78d88439e717]\n",
      "\u001b[33m\u001b[1m│ \u001b[22m\u001b[39m  SciMLBaseMakieExt [565f26a4-c902-5eae-92ad-e10714a9d9de]\n",
      "\u001b[33m\u001b[1m│ \u001b[22m\u001b[39m  Packing [19eb6ba3-879d-56ad-ad62-d5c202156566]\n",
      "\u001b[33m\u001b[1m│ \u001b[22m\u001b[39m  KrylovExt [0c77a23c-40e2-58cd-a123-9f7382d77d91]\n",
      "\u001b[33m\u001b[1m│ \u001b[22m\u001b[39m  ChainRulesCoreExt [eae2faf6-b232-58cb-a410-7764fda2830c]\n",
      "\u001b[33m\u001b[1m│ \u001b[22m\u001b[39m  TaylorSeriesRATExt [c4ea8832-5bc1-5fe6-84e3-c3fd0b12584c]\n",
      "\u001b[33m\u001b[1m│ \u001b[22m\u001b[39m  StaticArrayInterfaceStaticArraysExt [06b0261c-7a9b-5753-9bdf-fd6840237b4a]\n",
      "\u001b[33m\u001b[1m│ \u001b[22m\u001b[39m  ClimaUtilitiesClimaCoreNCDatasetsExt [48571bb3-c79f-5bee-8716-162918169e45]\n",
      "\u001b[33m\u001b[1m│ \u001b[22m\u001b[39m  CloudMicrophysics [6a9e3e04-43cd-43ba-94b9-e8782df3c71b]\n",
      "\u001b[33m\u001b[1m│ \u001b[22m\u001b[39m  CubedSphere [7445602f-e544-4518-8976-18f8e8ae6cdb]\n",
      "\u001b[33m\u001b[1m│ \u001b[22m\u001b[39m  CreateParametersExt [674f2e01-4fca-51ba-852d-9b26a1a0620b]\n",
      "\u001b[33m\u001b[1m│ \u001b[22m\u001b[39m  DiffEqBaseDistributionsExt [24f3332a-0dc5-5d65-94b6-25e75cab9690]\n",
      "\u001b[33m\u001b[1m│ \u001b[22m\u001b[39m  GeometryBasics [5c1252a2-5f33-56bf-86c9-59e7332b4326]\n",
      "\u001b[33m\u001b[1m│ \u001b[22m\u001b[39m  StaticArrayInterfaceOffsetArraysExt [a8fab69c-de6f-5f74-aba3-bef19c2d033f]\n",
      "\u001b[33m\u001b[1m│ \u001b[22m\u001b[39m  MakieCore [20f20a25-4f0e-4fdf-b5d1-57303727442b]\n",
      "\u001b[33m\u001b[1m│ \u001b[22m\u001b[39m  EnzymeCoreExt [c3ed20f3-746d-5a71-99a7-df1cca8c2b90]\n",
      "\u001b[33m\u001b[1m│ \u001b[22m\u001b[39m  SciMLOperators [c0aeaf25-5076-4817-a8d5-81caf7dfa961]\n",
      "\u001b[33m\u001b[1m│ \u001b[22m\u001b[39m  Thermodynamics [b60c26fb-14c3-4610-9d3e-2d17fe7ff00c]\n",
      "\u001b[33m\u001b[1m│ \u001b[22m\u001b[39m  RecursiveArrayTools [731186ca-8d62-57ce-b412-fbd966d074cd]\n",
      "\u001b[33m\u001b[1m│ \u001b[22m\u001b[39m  ClimaCommsCUDAExt [99b8ddb0-feda-59bb-a619-477702080bcc]\n",
      "\u001b[33m\u001b[1m│ \u001b[22m\u001b[39m  RRTMGPCUDAExt [fd45b194-e64b-5d9e-b7f1-19fc9666344c]\n",
      "\u001b[33m\u001b[1m│ \u001b[22m\u001b[39m  ClimaCoreVTK [c8b6d40d-e815-466f-95ae-c48aefa668fa]\n",
      "\u001b[33m\u001b[1m│ \u001b[22m\u001b[39m  ClimaUtilitiesNCDatasetsExt [b3b1e7e8-7957-5ea1-babc-8e7829e72506]\n",
      "\u001b[33m\u001b[1m│ \u001b[22m\u001b[39m  SciMLStructures [53ae85a6-f571-4167-b2af-e1d143709226]\n",
      "\u001b[33m\u001b[1m│ \u001b[22m\u001b[39m  NaNStatistics [b946abbf-3ea7-4610-9019-9858bfdeaf2d]\n",
      "\u001b[33m\u001b[1m│ \u001b[22m\u001b[39m  FreeTypeAbstraction [663a7486-cb36-511b-a19d-713bb74d65c9]\n",
      "\u001b[33m\u001b[1m│ \u001b[22m\u001b[39m  CreateParametersExt [ca94d503-9854-5e8b-94ec-6bd4f4ce5751]\n",
      "\u001b[33m\u001b[1m│ \u001b[22m\u001b[39m  SurfaceFluxes [49b00bb7-8bd4-4f2b-b78c-51cd0450215f]\n",
      "\u001b[33m\u001b[1m│ \u001b[22m\u001b[39m  SymbolicIndexingInterface [2efcf032-c050-4f8e-a9bb-153293bab1f5]\n",
      "\u001b[33m\u001b[1m│ \u001b[22m\u001b[39m  RecursiveArrayToolsForwardDiffExt [14203109-85fb-5f77-af23-1cb7d9032242]\n",
      "\u001b[33m\u001b[1m│ \u001b[22m\u001b[39m  SciMLOperatorsSparseArraysExt [9985400b-97ec-5583-b534-4f70b643bcf7]\n",
      "\u001b[33m\u001b[1m│ \u001b[22m\u001b[39m  ClimaAnalysis [29b5916a-a76c-4e73-9657-3c8fd22e65e6]\n",
      "\u001b[33m\u001b[1m│ \u001b[22m\u001b[39m  DiffEqBaseSparseArraysExt [4131c53f-b1d6-5635-a7a3-57f6f930b644]\n",
      "\u001b[33m\u001b[1m│ \u001b[22m\u001b[39m  DiffEqBase [2b5f629d-d688-5b77-993f-72d75c75574e]\n",
      "\u001b[33m\u001b[1m└ \u001b[22m\u001b[39m\u001b[90m@ Pkg.API /clima/software/julia/julia-1.10.5/share/julia/stdlib/v1.10/Pkg/src/API.jl:1279\u001b[39m\n",
      "\u001b[32m\u001b[1mPrecompiling\u001b[22m\u001b[39m ClimaCore\n",
      "\u001b[32m  ✓ \u001b[39m\u001b[90mClimaComms → ClimaCommsMPIExt\u001b[39m\n",
      "  1 dependency successfully precompiled in 3 seconds. 191 already precompiled. 84 skipped due to circular dependency.\n",
      "\u001b[36m\u001b[1m[ \u001b[22m\u001b[39m\u001b[36m\u001b[1mInfo: \u001b[22m\u001b[39mPrecompiling ClimaCore [d414da3d-4745-48bb-8d80-42e94e092884]\n"
     ]
    },
    {
     "ename": "LoadError",
     "evalue": "UndefVarError: `simulation` not defined",
     "output_type": "error",
     "traceback": [
      "UndefVarError: `simulation` not defined",
      "",
      "Stacktrace:",
      " [1] top-level scope",
      "   @ In[1]:2"
     ]
    }
   ],
   "source": [
    "import ClimaCore: Fields\n",
    "FT = Float32\n",
    "tv = TimeVaryingInputs.TimeVaryingInput([\"/home/jschmitt/ClimaAtmos.jl/examples/tvforcing/sim_forcing_site23_ng_xyz.nc\"],\n",
    "                                [\"coszen\"],\n",
    "                                axes(similar(Fields.level(simulation.integrator.u.c.ρ, 1), FT));\n",
    "                                reference_date = start_time,\n",
    "                                regridder_type = :InterpolationsRegridder,\n",
    ");\n",
    "# F1 = zero(simulation.integrator.u.c.ρ)\n",
    "# next_t = start_time + Dates.Second(100000)\n",
    "# next_t\n",
    "# TimeVaryingInputs.evaluate!(F1, tv, next_t)\n"
   ]
  }
 ],
 "metadata": {
  "kernelspec": {
   "display_name": "Julia 1.10.5",
   "language": "julia",
   "name": "julia-1.10"
  },
  "language_info": {
   "file_extension": ".jl",
   "mimetype": "application/julia",
   "name": "julia",
   "version": "1.10.5"
  }
 },
 "nbformat": 4,
 "nbformat_minor": 2
}
